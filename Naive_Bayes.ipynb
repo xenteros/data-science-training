{
 "cells": [
  {
   "cell_type": "markdown",
   "metadata": {},
   "source": [
    "Po pierwsze, musimy zaimportować dane. Pobierzmy sobie zatem zbiory z UCL i spójrzmy na nie (tam trzeba gdzieniegdzie zamienić klasy ze słowa na wartość liczbową). Po pobraniu pobierzmy jeden ze zbiorów (wina) do zeszytu."
   ]
  },
  {
   "cell_type": "code",
   "execution_count": 1,
   "metadata": {},
   "outputs": [],
   "source": [
    "import csv\n",
    "\n",
    "def loadCsv(filename):\n",
    "    lines = csv.reader(open(filename, \"r\"))\n",
    "    dataset = list(lines)\n",
    "    for i in range(len(dataset)):\n",
    "        dataset[i] = [float(x) for x in dataset[i]]\n",
    "    return dataset\n",
    "\n",
    "filename = 'wine.data.csv'\n",
    "dataset = loadCsv(filename)"
   ]
  },
  {
   "cell_type": "markdown",
   "metadata": {},
   "source": [
    " Następnie musimy wydzielić klasę jako osobny label"
   ]
  },
  {
   "cell_type": "code",
   "execution_count": 2,
   "metadata": {},
   "outputs": [],
   "source": [
    "def separateClass(dataset):\n",
    "    target = []\n",
    "    for i in range(len(dataset)):\n",
    "        target.append(dataset[i][0])\n",
    "        del dataset[i][0]\n",
    "    return dataset,target\n",
    "\n",
    "\n",
    "data, target=separateClass(dataset)"
   ]
  },
  {
   "cell_type": "markdown",
   "metadata": {},
   "source": [
    "Możemy już przejść do zdefiniowania modelu i jego walidacji (zobacz jakie to proste!)"
   ]
  },
  {
   "cell_type": "code",
   "execution_count": 14,
   "metadata": {},
   "outputs": [
    {
     "name": "stdout",
     "output_type": "stream",
     "text": [
      "[[52  5  2]\n",
      " [ 3 60  8]\n",
      " [ 1  6 41]]\n"
     ]
    }
   ],
   "source": [
    "from sklearn.naive_bayes import MultinomialNB, GaussianNB\n",
    "from sklearn.model_selection import cross_val_score\n",
    "from sklearn.model_selection import cross_val_predict\n",
    "from sklearn.metrics import confusion_matrix, accuracy_score, precision_score, recall_score, f1_score\n",
    "\n",
    "mnb = MultinomialNB()\n",
    "predicted = cross_val_predict(mnb, data, target, cv=8)\n",
    "print(confusion_matrix(target,predicted))"
   ]
  },
  {
   "cell_type": "code",
   "execution_count": 15,
   "metadata": {},
   "outputs": [
    {
     "name": "stdout",
     "output_type": "stream",
     "text": [
      "[[57  2  0]\n",
      " [ 2 66  3]\n",
      " [ 0  0 48]]\n"
     ]
    }
   ],
   "source": [
    "from sklearn.naive_bayes import MultinomialNB, GaussianNB\n",
    "from sklearn.model_selection import cross_val_score\n",
    "from sklearn.model_selection import cross_val_predict\n",
    "from sklearn.metrics import confusion_matrix, accuracy_score, precision_score, recall_score, f1_score\n",
    "\n",
    "gnb = GaussianNB()\n",
    "predicted = cross_val_predict(gnb, data, target, cv=8)\n",
    "print(confusion_matrix(target,predicted))"
   ]
  },
  {
   "cell_type": "code",
   "execution_count": 12,
   "metadata": {},
   "outputs": [
    {
     "data": {
      "image/png": "[encoded data removed]",
      "text/plain": [
       "<Figure size 432x288 with 2 Axes>"
      ]
     },
     "metadata": {},
     "output_type": "display_data"
    }
   ],
   "source": [
    "import seaborn as sns; sns.set(style=\"white\", color_codes=True)\n",
    "import matplotlib.pyplot as plt\n",
    "sns.heatmap(confusion_matrix(target,predicted))\n",
    "plt.show()"
   ]
  },
  {
   "cell_type": "markdown",
   "metadata": {},
   "source": [
    "Miary poprawności działania"
   ]
  },
  {
   "cell_type": "code",
   "execution_count": 21,
   "metadata": {},
   "outputs": [
    {
     "name": "stdout",
     "output_type": "stream",
     "text": [
      "Accuracy:  0.9606741573033708\n",
      "Precision:  0.959288800265869\n",
      "Recall:  [0.96610169 0.92957746 1.        ]\n",
      "F1SCORE:  [0.96610169 0.94964029 0.96969697]\n",
      "Number of mislabeled points out of a total 178 points : 7\n"
     ]
    }
   ],
   "source": [
    "print(\"Accuracy: \",accuracy_score(target,predicted))\n",
    "print(\"Precision: \",precision_score(target,predicted,average='macro'))\n",
    "print(\"Recall: \",recall_score(target,predicted,average=None))\n",
    "print(\"F1SCORE: \",f1_score(target,predicted,average=None))\n",
    "print(\"Number of mislabeled points out of a total %d points : %d\" % (len(data), (target != predicted).sum()))"
   ]
  },
  {
   "cell_type": "markdown",
   "metadata": {},
   "source": [
    "Teraz zrób to samo dla zbioru glass"
   ]
  },
  {
   "cell_type": "markdown",
   "metadata": {},
   "source": [
    "A na co się przydaje ta dyskretyzacja? Sprawdźmy!"
   ]
  },
  {
   "cell_type": "code",
   "execution_count": 26,
   "metadata": {},
   "outputs": [],
   "source": [
    "import numpy as np\n",
    "import pandas as pd\n",
    "\n",
    "def equalLength(data,numberOfPartitions):\n",
    "    datanp=np.vstack(data)\n",
    "    d_range = np.zeros((datanp.shape[1], 2))\n",
    "    for i in range(datanp.shape[1]):\n",
    "        d_range[i][0] = min(datanp[:, i])\n",
    "        d_range[i][1] = max(datanp[:, i])\n",
    "    bins = np.empty((numberOfPartitions, datanp.shape[1]))\n",
    "    for j in range(datanp.shape[1]):\n",
    "        for i in range(numberOfPartitions):\n",
    "            bins[i][j] = d_range[j][0] + i * (d_range[j][1] - d_range[j][0]) / numberOfPartitions\n",
    "        indices = np.digitize(datanp[:, j], bins[:, j]) - 1\n",
    "        for k in range(len(indices)):\n",
    "            datanp[k][j] = bins[indices[k]][j]\n",
    "    return datanp\n",
    "\n",
    "def equalFrequency(data, numberOfPartitions):\n",
    "    datanp=np.vstack(data)\n",
    "    for i in range(datanp.shape[1]):\n",
    "        indices, bins = pd.qcut(datanp[:, i], numberOfPartitions, labels=False, retbins=True, duplicates='drop')\n",
    "        for k in range(len(indices)):\n",
    "            datanp[k][i] = bins[indices[k]]\n",
    "    return datanp\n",
    "\n",
    "def histDivision(data):\n",
    "    datanp = np.vstack(data)\n",
    "    for i in range(datanp.shape[1]):\n",
    "        _, bins = np.histogram(datanp[:, i], bins='fd')\n",
    "        indices = np.digitize(datanp[:, i], bins) - 1\n",
    "        for j in range(len(indices)):\n",
    "            datanp[j][i] = bins[indices[j]]\n",
    "    return datanp"
   ]
  },
  {
   "cell_type": "code",
   "execution_count": 27,
   "metadata": {},
   "outputs": [],
   "source": [
    "data=equalLength(data,5)\n",
    "data=equalFrequency(data, 5)\n",
    "data=histDivision(data)"
   ]
  },
  {
   "cell_type": "code",
   "execution_count": null,
   "metadata": {},
   "outputs": [],
   "source": []
  }
 ],
 "metadata": {
  "kernelspec": {
   "display_name": "Python 3",
   "language": "python",
   "name": "python3"
  },
  "language_info": {
   "codemirror_mode": {
    "name": "ipython",
    "version": 3
   },
   "file_extension": ".py",
   "mimetype": "text/x-python",
   "name": "python",
   "nbconvert_exporter": "python",
   "pygments_lexer": "ipython3",
   "version": "3.7.3"
  }
 },
 "nbformat": 4,
 "nbformat_minor": 2
}
