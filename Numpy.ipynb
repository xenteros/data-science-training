{
 "cells": [
  {
   "cell_type": "markdown",
   "metadata": {},
   "source": [
    "# NumPy\n",
    "***\n",
    "## Wstęp\n",
    "`NumPy` jest jedną z podstawowych bibliotek wykorzystywanych w analizie danych w Pythonie. Zaletą `NumPy` jest wsparcie dla dużych, wielowymiarowych tablic i macierzy oraz mnóstwo zaimplementowanych funkcji matematycznych. \n",
    "\n",
    "`NumPy` rozwiązuje również problem wydajności standardowych operacji matematycznych w Pythonie. Został zaimplementowany w `C` i `Fortran`, dzięki czemu efektywność operacji została przeniesiona na inny poziom. Wydajność operacji w `numpy` jest zbliżona do tej z `MATLAB`, ale osiągamy ją pracując w środowisku pełnoprawnego języka programowania.\n",
    "\n",
    "## Instalacja\n",
    "\n",
    "Aby zainstalować `NumPy`, musimy skorzystać z jednego z managerów pakietów:\n",
    "\n",
    "```\n",
    "pip install numpy\n",
    "conda install numpy\n",
    "```\n",
    "\n",
    "## Hello World\n",
    "Standardowo, importujemy `NumPy` jako `np` i ilekroć w tutorialu pojawia się wywołanie `np.<cokolwiek>` to prawdopodobnie chodzi o `NumPy`.\n"
   ]
  },
  {
   "cell_type": "code",
   "execution_count": 2,
   "metadata": {},
   "outputs": [
    {
     "name": "stdout",
     "output_type": "stream",
     "text": [
      "24.2 ms ± 495 µs per loop (mean ± std. dev. of 7 runs, 10 loops each)\n",
      "759 µs ± 9.59 µs per loop (mean ± std. dev. of 7 runs, 1000 loops each)\n"
     ]
    }
   ],
   "source": [
    "import numpy as np\n",
    "np.version.version\n",
    "\n",
    "def pure_python(n):\n",
    "    X = range(n)\n",
    "    Y = range(n)\n",
    "    Z = [X[i] + Y[i] for i in range(n)]\n",
    "\n",
    "def pure_numpy(n):\n",
    "    X = np.arange(n)\n",
    "    Y = np.arange(n)\n",
    "    Z = X + Y\n",
    "\n",
    "%timeit pure_python(100_000)\n",
    "%timeit pure_numpy(100_000)"
   ]
  },
  {
   "cell_type": "markdown",
   "metadata": {},
   "source": [
    "Zadanie 1: Import numpy as np and print the version number."
   ]
  },
  {
   "cell_type": "markdown",
   "metadata": {},
   "source": [
    "# Podstawy\n",
    "***\n",
    "Główną klasą, na której operujemy w `numpy` jest tablica elementów (najczęściej liczb), tego samego typu, indeksowana tuplą zawierającą liczby naturalne. Wymiary w `ndarray` nazywane są `axes`.\n",
    "\n",
    "Przykładowo, tablica `[1,2,3]` ma jeden wymiar i mówimy, że ma długość 3. Przykładem tablicy dwuwymiarowej jest:\n",
    "```\n",
    "[[1,2,3],\n",
    " [4,5,6]]\n",
    "```\n",
    "O tej tablicy możemy powiedzieć, że pierwsza oś (`axis`) ma długość 2, a druga ma długość 3. Czasami, na `numpy.ndarray` używa się aliasu `numpy.array`, ale w praktyce warto odwoływać się wprost do `numpy.ndarray`.\n",
    "\n",
    "Najważniejszymi atrybutami `ndarray` są:\n",
    "\n",
    "`ndarray.ndim` - liczba wymiarów tablicy,\n",
    "`ndarray.shape` - wymiary tablicy,\n",
    "`ndarray.size` - liczba elementów w tablicy (iloczyn wymiarów),\n",
    "`ndarray.dtype` - obiekt opisujący typ elementów tablicy,\n",
    "`ndarray.itemsize` - rozmiar pojedynczego elementu w pamięci.\n",
    "## Przykłady"
   ]
  },
  {
   "cell_type": "code",
   "execution_count": null,
   "metadata": {},
   "outputs": [],
   "source": [
    "a = np.arange(15).reshape(3,5)\n",
    "print(a)\n",
    "print(a.shape)\n",
    "print(a.dtype.name)\n",
    "print(a.itemsize)\n",
    "print(a.size)\n",
    "print(type(a))"
   ]
  },
  {
   "cell_type": "markdown",
   "metadata": {},
   "source": [
    "Zadanie 2: Create a 1D array of numbers from 0 to 9"
   ]
  },
  {
   "cell_type": "markdown",
   "metadata": {},
   "source": [
    "# Tworzenie tablic\n",
    "***"
   ]
  },
  {
   "cell_type": "markdown",
   "metadata": {},
   "source": [
    "## Tworzenie tablic na podstawie danych"
   ]
  },
  {
   "cell_type": "code",
   "execution_count": null,
   "metadata": {},
   "outputs": [],
   "source": [
    "a = np.array([1,2,3]) #lista jest tutaj niezbędna. Bez nawiasów kwadratowych nie zadziała!\n",
    "print(a)\n",
    "print(a.dtype)\n",
    "b = np.array([1.,2.,3.,4.])\n",
    "print(b.dtype)\n",
    "c = np.array([(1,2,3), (4,5,6)])\n",
    "print(c)\n",
    "d = np.array([1,2,3], dtype=np.int32)\n",
    "print(d.dtype)"
   ]
  },
  {
   "cell_type": "markdown",
   "metadata": {},
   "source": [
    "## Tworzenie tablic - placeholderów"
   ]
  },
  {
   "cell_type": "code",
   "execution_count": 3,
   "metadata": {},
   "outputs": [
    {
     "data": {
      "text/plain": [
       "array([1, 1, 1, 1, 1, 1, 1, 1, 1], dtype=int32)"
      ]
     },
     "execution_count": 3,
     "metadata": {},
     "output_type": "execute_result"
    }
   ],
   "source": [
    "np.zeros((3,4))\n",
    "np.ones((2,3,4), dtype=np.int16)\n",
    "np.empty((2,3))\n",
    "np.full((9), 1, dtype=np.int32)"
   ]
  },
  {
   "cell_type": "markdown",
   "metadata": {},
   "source": [
    "## Tworzenie tablic - sekwencji"
   ]
  },
  {
   "cell_type": "code",
   "execution_count": 6,
   "metadata": {},
   "outputs": [
    {
     "name": "stdout",
     "output_type": "stream",
     "text": [
      "[ 0.00000000e+00  6.34239197e-02  1.26592454e-01  1.89251244e-01\n",
      "  2.51147987e-01  3.12033446e-01  3.71662456e-01  4.29794912e-01\n",
      "  4.86196736e-01  5.40640817e-01  5.92907929e-01  6.42787610e-01\n",
      "  6.90079011e-01  7.34591709e-01  7.76146464e-01  8.14575952e-01\n",
      "  8.49725430e-01  8.81453363e-01  9.09631995e-01  9.34147860e-01\n",
      "  9.54902241e-01  9.71811568e-01  9.84807753e-01  9.93838464e-01\n",
      "  9.98867339e-01  9.99874128e-01  9.96854776e-01  9.89821442e-01\n",
      "  9.78802446e-01  9.63842159e-01  9.45000819e-01  9.22354294e-01\n",
      "  8.95993774e-01  8.66025404e-01  8.32569855e-01  7.95761841e-01\n",
      "  7.55749574e-01  7.12694171e-01  6.66769001e-01  6.18158986e-01\n",
      "  5.67059864e-01  5.13677392e-01  4.58226522e-01  4.00930535e-01\n",
      "  3.42020143e-01  2.81732557e-01  2.20310533e-01  1.58001396e-01\n",
      "  9.50560433e-02  3.17279335e-02 -3.17279335e-02 -9.50560433e-02\n",
      " -1.58001396e-01 -2.20310533e-01 -2.81732557e-01 -3.42020143e-01\n",
      " -4.00930535e-01 -4.58226522e-01 -5.13677392e-01 -5.67059864e-01\n",
      " -6.18158986e-01 -6.66769001e-01 -7.12694171e-01 -7.55749574e-01\n",
      " -7.95761841e-01 -8.32569855e-01 -8.66025404e-01 -8.95993774e-01\n",
      " -9.22354294e-01 -9.45000819e-01 -9.63842159e-01 -9.78802446e-01\n",
      " -9.89821442e-01 -9.96854776e-01 -9.99874128e-01 -9.98867339e-01\n",
      " -9.93838464e-01 -9.84807753e-01 -9.71811568e-01 -9.54902241e-01\n",
      " -9.34147860e-01 -9.09631995e-01 -8.81453363e-01 -8.49725430e-01\n",
      " -8.14575952e-01 -7.76146464e-01 -7.34591709e-01 -6.90079011e-01\n",
      " -6.42787610e-01 -5.92907929e-01 -5.40640817e-01 -4.86196736e-01\n",
      " -4.29794912e-01 -3.71662456e-01 -3.12033446e-01 -2.51147987e-01\n",
      " -1.89251244e-01 -1.26592454e-01 -6.34239197e-02 -2.44929360e-16]\n"
     ]
    }
   ],
   "source": [
    "np.arange(10, 40, 5)\n",
    "np.arange(0, 2, 0.3)\n",
    "np.linspace(0,2,9) # linspace(a,b,c) zwraca c wartości z przestrzeni (a,b)\n",
    "x = np.linspace(0, 2*np.pi, 100)\n",
    "f = np.sin(x)\n",
    "print(f)"
   ]
  },
  {
   "cell_type": "code",
   "execution_count": 11,
   "metadata": {},
   "outputs": [
    {
     "data": {
      "text/plain": [
       "array([10, 15, 20, 25])"
      ]
     },
     "execution_count": 11,
     "metadata": {},
     "output_type": "execute_result"
    }
   ],
   "source": [
    "x = np.arange(10, 40, 5)\n",
    "x[x < 30]"
   ]
  },
  {
   "cell_type": "markdown",
   "metadata": {},
   "source": [
    "Zadanie 4: Extract all odd numbers from arr\n",
    "Zadanie 5: Replace all odd numbers in arr with -1"
   ]
  },
  {
   "cell_type": "markdown",
   "metadata": {},
   "source": [
    "Zadanie 6: Replace all odd numbers in arr with -1 without changing arr (use whereis)"
   ]
  },
  {
   "cell_type": "markdown",
   "metadata": {},
   "source": [
    "Zadanie 7: Convert a 1D array to a 2D array with 2 rows"
   ]
  },
  {
   "cell_type": "markdown",
   "metadata": {},
   "source": [
    "## Podobne funkcje\n",
    "```\n",
    "np.zeros_like, \n",
    "np.ones_like, \n",
    "np.empty, \n",
    "np.empty_like, \n",
    "np.random.rand, \n",
    "numpy.random.randn\n",
    "```\n",
    "***"
   ]
  },
  {
   "cell_type": "markdown",
   "metadata": {},
   "source": [
    "# Podstawowe operacje\n",
    "\n",
    "Operacje arytmetyczne na tablicach dotyczą elementów na odpowiednich indeksach. Zwracana jest nowa tablica wynikowa. Ta zasada dotyczy również operatora `*`, który w przeciwieństwie do `MATLAB` nie służy do mnożenia macierzy, a do mnożenia elementów. Operatorem służącym do mnożenia macierzy jest operator `@`, ale znacznie częściej używa się zapisu `A.dot(B)`."
   ]
  },
  {
   "cell_type": "code",
   "execution_count": null,
   "metadata": {},
   "outputs": [],
   "source": [
    "A = np.array([1, 2, 3, 4])\n",
    "B = np.array([10, 20, 30, 40])\n",
    "C = A - B\n",
    "D = A * B\n",
    "E = B ** 2\n",
    "F = 10*A\n",
    "G = B < 25\n",
    "H = A @ B\n",
    "H = A.dot(B)"
   ]
  },
  {
   "cell_type": "markdown",
   "metadata": {},
   "source": [
    "\n",
    "Zadanie 8: Stwórz funkcję, zwracającą tabliczkę mnożenia o zadanym rozmiarze."
   ]
  },
  {
   "cell_type": "markdown",
   "metadata": {},
   "source": [
    "Skrócone operatory podstawienia `+=`, `-=` itd. działają \"w miejscu\" i nie zwracają nowego obiektu."
   ]
  },
  {
   "cell_type": "code",
   "execution_count": null,
   "metadata": {},
   "outputs": [],
   "source": [
    "A += 3"
   ]
  },
  {
   "cell_type": "markdown",
   "metadata": {},
   "source": [
    "Część operacji unarnych również jest zaimplementowana i dostępna w `ndarray`."
   ]
  },
  {
   "cell_type": "code",
   "execution_count": null,
   "metadata": {},
   "outputs": [],
   "source": [
    "a = np.ones((2,3))\n",
    "a.sum()\n",
    "a.min()\n",
    "a.max()\n",
    "a.mean() #Uwaga - NIE MA a.avg()"
   ]
  },
  {
   "cell_type": "markdown",
   "metadata": {},
   "source": [
    "Mamy również dostęp do mniej oczywistych metod. Wszystkie dostępne metody znajdują się w [dokumentacji](https://docs.scipy.org/doc/numpy/reference/generated/numpy.ndarray.html)."
   ]
  },
  {
   "cell_type": "code",
   "execution_count": null,
   "metadata": {},
   "outputs": [],
   "source": [
    "a = np.array([1,10,2,3,-5-10])\n",
    "a.argmax()\n",
    "a.argmin()\n",
    "a.argsort()\n",
    "a.cumprod()\n",
    "a.cumsum()"
   ]
  },
  {
   "cell_type": "markdown",
   "metadata": {},
   "source": [
    "***\n",
    "# Przydatne funkcje\n",
    "\n",
    "`NumPy` zawiera oprócz API do tablic wielowymiarowych również zestaw często używanych funkcji."
   ]
  },
  {
   "cell_type": "code",
   "execution_count": null,
   "metadata": {},
   "outputs": [],
   "source": [
    "B = np.arange(3)\n",
    "C = np.exp(B)\n",
    "D = np.sqrt(B)\n",
    "E = np.add(B, B)"
   ]
  },
  {
   "cell_type": "markdown",
   "metadata": {},
   "source": [
    "Ponadto:\n",
    "```\n",
    "np.average\n",
    "np.maximum\n",
    "np.mean\n",
    "np.median\n",
    "np.sort\n",
    "```\n",
    "\n",
    "## Indeksowanie, cięcie i iterowanie\n",
    "\n",
    "Tablice jednowymiarowe mogą być indeksowane, cięte i iterowane tak jak listy w Pythonie."
   ]
  },
  {
   "cell_type": "code",
   "execution_count": null,
   "metadata": {},
   "outputs": [],
   "source": [
    "a = np.arange(10)**3\n",
    "a[2]\n",
    "a[2:5]\n",
    "a[:6:2] = -1000\n",
    "\n",
    "def f(x,y):\n",
    "    return 10*x+y\n",
    "\n",
    "b = np.fromfunction(f, (5,4), dtype=int)\n",
    "print(b)\n",
    "b[2,3]\n",
    "b[1:3, :]\n",
    "b[-1] # brakujące indeksy są uzupełniane : - pełnym cięciem (complete slice)"
   ]
  },
  {
   "cell_type": "markdown",
   "metadata": {},
   "source": [
    "Brakujące indeksy mogą być wskazane przy użyciu `...`. Przykładowo dla pięciowymiarowej tablicy `x`, `x[3,...]` odpowiada `x[3,:,:,:,:]`, a `x[...,3]` odpowiada `x[:,:,:,:,3]`.\n",
    "\n",
    "Iterowanie odbywa się po kolejnych osiach. Aby przeiterować po wszystkich elementach, należy skorzystać z `ndarray.flat`."
   ]
  },
  {
   "cell_type": "code",
   "execution_count": null,
   "metadata": {},
   "outputs": [],
   "source": [
    "for row in b:\n",
    "    print(row)\n",
    "    \n",
    "for element in b.flat:\n",
    "    print(element)"
   ]
  },
  {
   "cell_type": "markdown",
   "metadata": {},
   "source": [
    "***\n",
    "# Praca z wymiarami tablicy\n",
    "\n",
    "Kształt tablicy to krotka przechowująca na `i` pozycji liczbę elementów w osi `i`."
   ]
  },
  {
   "cell_type": "code",
   "execution_count": null,
   "metadata": {},
   "outputs": [],
   "source": [
    "a = np.floor(10*np.random.random((3,4)))\n",
    "print(a)\n",
    "a.shape"
   ]
  },
  {
   "cell_type": "markdown",
   "metadata": {},
   "source": [
    "Wymiary tablicy mogą zostać zmodyfikowane na kilka sposobów. Kluczowe jest, aby pamiętać, że metody te zwracają nową tablicę na podstawie starej, a nie modyfikują istniejącą. Nie dotyczy to metody `resize`, która działa w miejscu (ang. in-place)."
   ]
  },
  {
   "cell_type": "code",
   "execution_count": null,
   "metadata": {},
   "outputs": [],
   "source": [
    "a.ravel()\n",
    "a.reshape(6,2)\n",
    "a.T\n",
    "a.T.shape\n",
    "a.shape"
   ]
  },
  {
   "cell_type": "code",
   "execution_count": null,
   "metadata": {},
   "outputs": [],
   "source": [
    "print(a)\n",
    "a.resize((2,6))\n",
    "print(a)"
   ]
  },
  {
   "cell_type": "markdown",
   "metadata": {},
   "source": [
    "W metodzie `reshape`, możemy podać jako jeden z argumentów `-1`. Wówczas zostanie on wyliczony na podstawie pozostałych argumentów."
   ]
  },
  {
   "cell_type": "markdown",
   "metadata": {},
   "source": [
    "## Łączenie różnych tablic"
   ]
  },
  {
   "cell_type": "code",
   "execution_count": null,
   "metadata": {},
   "outputs": [],
   "source": [
    "a = np.floor(10*np.random.random((2,2)))\n",
    "print(a)\n",
    "b = np.floor(10*np.random.random((2,2)))\n",
    "print(b)\n",
    "c = np.vstack((a,b))\n",
    "print(c)\n",
    "d = np.hstack((a,b))\n",
    "print(d)"
   ]
  },
  {
   "cell_type": "markdown",
   "metadata": {},
   "source": [
    "## Kopiowanie tablic"
   ]
  },
  {
   "cell_type": "code",
   "execution_count": null,
   "metadata": {},
   "outputs": [],
   "source": [
    "a = np.arange(10)\n",
    "b = a\n",
    "b is a\n",
    "c = a.view()\n",
    "d = a.copy()\n"
   ]
  },
  {
   "cell_type": "markdown",
   "metadata": {},
   "source": [
    "***\n",
    "# Algebra Liniowa\n",
    "`NumPy` zawiera wsparcie dla funkcji znanych z algebry liniowej."
   ]
  },
  {
   "cell_type": "code",
   "execution_count": null,
   "metadata": {},
   "outputs": [],
   "source": [
    "a = np.array([[1.0,2.0],[3.0, 4.0]])\n",
    "b = a.transpose()\n",
    "c = np.linalg.inv(a)\n",
    "d = np.eye(2)\n",
    "e = np.trace(d)\n",
    "y = np.array([[5.],[7.]])\n",
    "x = np.linalg.solve(a,y)"
   ]
  },
  {
   "cell_type": "markdown",
   "metadata": {},
   "source": [
    "***\n",
    "# Różności"
   ]
  },
  {
   "cell_type": "code",
   "execution_count": null,
   "metadata": {},
   "outputs": [],
   "source": [
    "mu, sigma = 2, 0.5\n",
    "v = np.random.normal(mu, sigma, 10_000)\n",
    "(n, bins) = np.histogram(v, bins=50, density=True)"
   ]
  },
  {
   "cell_type": "markdown",
   "metadata": {},
   "source": [
    "***\n",
    "# Zadania\n",
    "\n",
    "### Zadanie 0\n",
    "Niech `fib(n)` oznacza `n-ty` wyraz ciągu Fibonacciego. Zaimplementuj `fib(n)` na 3 sposoby (wykorzystując za każdym razem `NumPy`) o różnej złożoności obliczeniowej i porównaj ich wydajność. Przynajmniej jedna implementacja powinna mieć złożoność `O(logn)`.\n",
    "\n",
    "### Zadanie 0b\n",
    "Porównaj wydajność implementacji z `Zadanie 1` z analogiczną implementacją bez `NumPy`.\n",
    "\n",
    "### Zadanie 5\n",
    "Stwórz funkcję, zwracającą tablicę, zawierającą część wspólną dwóch `ndarray`.\n",
    "\n",
    "### Zadanie 6\n",
    "Stwórz funkcję, zwracającą tablicę, zawierającą te elementy, które występują w obu tablicach na tych samych indeksach.\n",
    "\n",
    "### Zadanie 7\n",
    "Stwórz funkcję, zwracającą tablicę, zawierającą wartości z zakresu (a,b) z innej tablicy.\n",
    "\n",
    "### Zadanie 8\n",
    "Stwórz tablicę o wymiarach `3x3` wypełnioną losowymi wartościami z przedziału `[1,2)` i wyświetl ją z dokładnością do dwóch cyfr po przecinku.\n",
    "\n",
    "### Zadanie 9\n",
    "Stwórz tablicę, zawierającą wszystkie obserwacje ze zbioru Iris (pobierz dane z UCI z poziomu kodu).\n",
    "\n",
    "### Zadanie 10\n",
    "Napisz funkcję, która zwróci n największych wartości z tablicy.\n",
    "\n",
    "### Zadanie 11\n",
    "Policz korelację między poszczególnymi cechami w zbiorze Iris.\n",
    "\n",
    "### Zadanie 12\n",
    "Sprawdź, czy którakolwiek z kolumn w zbiorze Iris zawiera wartość `NaN`.\n",
    "\n",
    "### Zadanie 13\n",
    "Zastąp losowe wartości ze zbioru Iris wartością `np.nan`, a następnie napisz funkcję, która w każdej kolumnie, zastąpi wartości `np.nan` średnią lub inną agregacją, którą zaproponujesz.\n",
    "\n",
    "### Zadanie 14\n",
    "Znajdź liczbę unikalnych wartości w tablicy i w poszczególnych kolumnach.\n",
    "\n",
    "### Zadanie 15\n",
    "Napisz funkcję, która jako argument przyjmie wartość `u` z przedziału `(0,1)` oraz tablicę, a zwróci `(train, test)` takie, że `train.size/test.size = u`.\n",
    "\n",
    "### Zadanie 16\n",
    "Znajdź wartość dominującą w zbiorze Iris."
   ]
  }
 ],
 "metadata": {
  "kernelspec": {
   "display_name": "Python 3",
   "language": "python",
   "name": "python3"
  },
  "language_info": {
   "codemirror_mode": {
    "name": "ipython",
    "version": 3
   },
   "file_extension": ".py",
   "mimetype": "text/x-python",
   "name": "python",
   "nbconvert_exporter": "python",
   "pygments_lexer": "ipython3",
   "version": "3.7.3"
  }
 },
 "nbformat": 4,
 "nbformat_minor": 4
}
