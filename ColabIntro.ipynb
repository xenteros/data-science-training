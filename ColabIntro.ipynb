{
  "nbformat": 4,
  "nbformat_minor": 0,
  "metadata": {
    "colab": {
      "name": "ColabIntro.ipynb",
      "version": "0.3.2",
      "provenance": [],
      "collapsed_sections": []
    },
    "kernelspec": {
      "name": "python3",
      "display_name": "Python 3"
    },
    "accelerator": "TPU"
  },
  "cells": [
    {
      "cell_type": "markdown",
      "metadata": {
        "id": "EGWq2XU9hYEe",
        "colab_type": "text"
      },
      "source": [
        "Google Colaboratory\n",
        "------\n",
        "\n",
        "Do rozpoczęcia pracy nad problemem często potrzebny jest dostęp do danych. W Colaboratory istnieje kilka sposobów na dodanie plików.\n",
        "\n",
        "Link do zeszytu: [Colaboratory](https://colab.research.google.com/drive/19MyvwOuQ40uhhAiBlHo_X9P1UizMlXwo)"
      ]
    },
    {
      "cell_type": "markdown",
      "metadata": {
        "id": "nWZl2ebThuII",
        "colab_type": "text"
      },
      "source": [
        "## Dodawanie plików\n",
        "\n",
        "Pliki można dodać z użyciem następujących poleceń:"
      ]
    },
    {
      "cell_type": "code",
      "metadata": {
        "id": "SPhZDZgoeN3Y",
        "colab_type": "code",
        "colab": {}
      },
      "source": [
        "from google.colab import files\n"
      ],
      "execution_count": 0,
      "outputs": []
    },
    {
      "cell_type": "code",
      "metadata": {
        "id": "V3jPw6wGiUHK",
        "colab_type": "code",
        "colab": {
          "resources": {
            "http://localhost:8080/nbextensions/google.colab/files.js": {
              "data": "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",
              "ok": true,
              "headers": [
                [
                  "content-type",
                  "application/javascript"
                ]
              ],
              "status": 200,
              "status_text": ""
            }
          },
          "base_uri": "https://localhost:8080/",
          "height": 108
        },
        "outputId": "f358d9ff-18f5-4ee4-a5e0-ae6f7c582b52"
      },
      "source": [
        "files.upload()"
      ],
      "execution_count": 2,
      "outputs": [
        {
          "output_type": "display_data",
          "data": {
            "text/html": [
              "\n",
              "     <input type=\"file\" id=\"files-33b613ab-440e-43a2-b1b0-572effeb0b23\" name=\"files[]\" multiple disabled />\n",
              "     <output id=\"result-33b613ab-440e-43a2-b1b0-572effeb0b23\">\n",
              "      Upload widget is only available when the cell has been executed in the\n",
              "      current browser session. Please rerun this cell to enable.\n",
              "      </output>\n",
              "      <script src=\"/nbextensions/google.colab/files.js\"></script> "
            ],
            "text/plain": [
              "<IPython.core.display.HTML object>"
            ]
          },
          "metadata": {
            "tags": []
          }
        },
        {
          "output_type": "stream",
          "text": [
            "Saving population.csv to population.csv\n"
          ],
          "name": "stdout"
        },
        {
          "output_type": "execute_result",
          "data": {
            "text/plain": [
              "{'population.csv': b'\"Country or Area\",\"Year\",\"Area\",\"Sex\",\"City\",\"City type\",\"Record Type\",\"Reliability\",\"Source Year\",\"Value\",\"Value Footnotes\"\\r\\n\"Poland\",\"2017\",\"Total\",\"Both Sexes\",\"Bialystok\",\"City proper\",\"Estimate - de jure\",\"Final figure, complete\",\"2018\",\"294362\",\"1,2\"\\r\\n\"Poland\",\"2017\",\"Total\",\"Both Sexes\",\"Bielsko-Biala\",\"City proper\",\"Estimate - de jure\",\"Final figure, complete\",\"2018\",\"170005\",\"1,2\"\\r\\n\"Poland\",\"2017\",\"Total\",\"Both Sexes\",\"Bydgoszcz\",\"City proper\",\"Estimate - de jure\",\"Final figure, complete\",\"2018\",\"352870\",\"1,2\"\\r\\n\"Poland\",\"2017\",\"Total\",\"Both Sexes\",\"Bytom\",\"City proper\",\"Estimate - de jure\",\"Final figure, complete\",\"2018\",\"167359\",\"1,2\"\\r\\n\"Poland\",\"2017\",\"Total\",\"Both Sexes\",\"Chorz\\xc3\\xb3w\",\"City proper\",\"Estimate - de jure\",\"Final figure, complete\",\"2018\",\"108205\",\"1,2\"\\r\\n\"Poland\",\"2017\",\"Total\",\"Both Sexes\",\"Czestochowa\",\"City proper\",\"Estimate - de jure\",\"Final figure, complete\",\"2018\",\"223373\",\"1,2\"\\r\\n\"Poland\",\"2017\",\"Total\",\"Both Sexes\",\"Dabrowa G\\xc3\\xb3rnicza\",\"City proper\",\"Estimate - de jure\",\"Final figure, complete\",\"2018\",\"120478\",\"1,2\"\\r\\n\"Poland\",\"2017\",\"Total\",\"Both Sexes\",\"Elblag\",\"City proper\",\"Estimate - de jure\",\"Final figure, complete\",\"2018\",\"118925\",\"1,2\"\\r\\n\"Poland\",\"2017\",\"Total\",\"Both Sexes\",\"Gdansk\",\"City proper\",\"Estimate - de jure\",\"Final figure, complete\",\"2018\",\"463352\",\"1,2\"\\r\\n\"Poland\",\"2017\",\"Total\",\"Both Sexes\",\"Gdynia\",\"City proper\",\"Estimate - de jure\",\"Final figure, complete\",\"2018\",\"243910\",\"1,2\"\\r\\n\"Poland\",\"2017\",\"Total\",\"Both Sexes\",\"Gliwice\",\"City proper\",\"Estimate - de jure\",\"Final figure, complete\",\"2018\",\"180193\",\"1,2\"\\r\\n\"Poland\",\"2017\",\"Total\",\"Both Sexes\",\"Gorz\\xc3\\xb3w Wielkopolski\",\"City proper\",\"Estimate - de jure\",\"Final figure, complete\",\"2018\",\"122299\",\"1,2\"\\r\\n\"Poland\",\"2017\",\"Total\",\"Both Sexes\",\"Grudziadz\",\"City proper\",\"Estimate - de jure\",\"Final figure, complete\",\"2018\",\"94068\",\"1,2\"\\r\\n\"Poland\",\"2017\",\"Total\",\"Both Sexes\",\"Jastrzebie-Zdr\\xc3\\xb3j\",\"City proper\",\"Estimate - de jure\",\"Final figure, complete\",\"2018\",\"88741\",\"1,2\"\\r\\n\"Poland\",\"2017\",\"Total\",\"Both Sexes\",\"Kalisz\",\"City proper\",\"Estimate - de jure\",\"Final figure, complete\",\"2018\",\"100812\",\"1,2\"\\r\\n\"Poland\",\"2017\",\"Total\",\"Both Sexes\",\"Katowice\",\"City proper\",\"Estimate - de jure\",\"Final figure, complete\",\"2018\",\"301202\",\"1,2\"\\r\\n\"Poland\",\"2017\",\"Total\",\"Both Sexes\",\"Kielce\",\"City proper\",\"Estimate - de jure\",\"Final figure, complete\",\"2018\",\"195655\",\"1,2\"\\r\\n\"Poland\",\"2017\",\"Total\",\"Both Sexes\",\"Koszalin\",\"City proper\",\"Estimate - de jure\",\"Final figure, complete\",\"2018\",\"105989\",\"1,2\"\\r\\n\"Poland\",\"2017\",\"Total\",\"Both Sexes\",\"Krak\\xc3\\xb3w\",\"City proper\",\"Estimate - de jure\",\"Final figure, complete\",\"2018\",\"759104\",\"1,2\"\\r\\n\"Poland\",\"2017\",\"Total\",\"Both Sexes\",\"Legnica\",\"City proper\",\"Estimate - de jure\",\"Final figure, complete\",\"2018\",\"98961\",\"1,2\"\\r\\n\"Poland\",\"2017\",\"Total\",\"Both Sexes\",\"L\\xc3\\xb3dz\",\"City proper\",\"Estimate - de jure\",\"Final figure, complete\",\"2018\",\"692284\",\"1,2\"\\r\\n\"Poland\",\"2017\",\"Total\",\"Both Sexes\",\"Lublin\",\"City proper\",\"Estimate - de jure\",\"Final figure, complete\",\"2018\",\"341794\",\"1,2\"\\r\\n\"Poland\",\"2017\",\"Total\",\"Both Sexes\",\"Olsztyn\",\"City proper\",\"Estimate - de jure\",\"Final figure, complete\",\"2018\",\"173693\",\"1,2\"\\r\\n\"Poland\",\"2017\",\"Total\",\"Both Sexes\",\"Opole\",\"City proper\",\"Estimate - de jure\",\"Final figure, complete\",\"2018\",\"127084\",\"1,2\"\\r\\n\"Poland\",\"2017\",\"Total\",\"Both Sexes\",\"Plock\",\"City proper\",\"Estimate - de jure\",\"Final figure, complete\",\"2018\",\"119840\",\"1,2\"\\r\\n\"Poland\",\"2017\",\"Total\",\"Both Sexes\",\"Poznan\",\"City proper\",\"Estimate - de jure\",\"Final figure, complete\",\"2018\",\"538439\",\"1,2\"\\r\\n\"Poland\",\"2017\",\"Total\",\"Both Sexes\",\"Radom\",\"City proper\",\"Estimate - de jure\",\"Final figure, complete\",\"2018\",\"212765\",\"1,2\"\\r\\n\"Poland\",\"2017\",\"Total\",\"Both Sexes\",\"Ruda Slaska\",\"City proper\",\"Estimate - de jure\",\"Final figure, complete\",\"2018\",\"137546\",\"1,2\"\\r\\n\"Poland\",\"2017\",\"Total\",\"Both Sexes\",\"Rybnik\",\"City proper\",\"Estimate - de jure\",\"Final figure, complete\",\"2018\",\"137436\",\"1,2\"\\r\\n\"Poland\",\"2017\",\"Total\",\"Both Sexes\",\"Rzesz\\xc3\\xb3w\",\"City proper\",\"Estimate - de jure\",\"Final figure, complete\",\"2018\",\"186391\",\"1,2\"\\r\\n\"Poland\",\"2017\",\"Total\",\"Both Sexes\",\"Slupsk\",\"City proper\",\"Estimate - de jure\",\"Final figure, complete\",\"2018\",\"90638\",\"1,2\"\\r\\n\"Poland\",\"2017\",\"Total\",\"Both Sexes\",\"Sosnowiec\",\"City proper\",\"Estimate - de jure\",\"Final figure, complete\",\"2018\",\"203001\",\"1,2\"\\r\\n\"Poland\",\"2017\",\"Total\",\"Both Sexes\",\"Szczecin\",\"City proper\",\"Estimate - de jure\",\"Final figure, complete\",\"2018\",\"401940\",\"1,2\"\\r\\n\"Poland\",\"2017\",\"Total\",\"Both Sexes\",\"Tarn\\xc3\\xb3w\",\"City proper\",\"Estimate - de jure\",\"Final figure, complete\",\"2018\",\"106709\",\"1,2\"\\r\\n\"Poland\",\"2017\",\"Total\",\"Both Sexes\",\"Torun\",\"City proper\",\"Estimate - de jure\",\"Final figure, complete\",\"2018\",\"199490\",\"1,2\"\\r\\n\"Poland\",\"2017\",\"Total\",\"Both Sexes\",\"Tychy\",\"City proper\",\"Estimate - de jure\",\"Final figure, complete\",\"2018\",\"126661\",\"1,2\"\\r\\n\"Poland\",\"2017\",\"Total\",\"Both Sexes\",\"Walbrzych\",\"City proper\",\"Estimate - de jure\",\"Final figure, complete\",\"2018\",\"112720\",\"1,2\"\\r\\n\"Poland\",\"2017\",\"Total\",\"Both Sexes\",\"WARSZAWA\",\"City proper\",\"Estimate - de jure\",\"Final figure, complete\",\"2018\",\"1754511\",\"1,2\"\\r\\n\"Poland\",\"2017\",\"Total\",\"Both Sexes\",\"Wloclawek\",\"City proper\",\"Estimate - de jure\",\"Final figure, complete\",\"2018\",\"110563\",\"1,2\"\\r\\n\"Poland\",\"2017\",\"Total\",\"Both Sexes\",\"Wroclaw\",\"City proper\",\"Estimate - de jure\",\"Final figure, complete\",\"2018\",\"634873\",\"1,2\"\\r\\n\"Poland\",\"2017\",\"Total\",\"Both Sexes\",\"Zabrze\",\"City proper\",\"Estimate - de jure\",\"Final figure, complete\",\"2018\",\"172909\",\"1,2\"\\r\\n\"Poland\",\"2017\",\"Total\",\"Both Sexes\",\"Zielona G\\xc3\\xb3ra\",\"City proper\",\"Estimate - de jure\",\"Final figure, complete\",\"2018\",\"139818\",\"1,2\"\\r\\n\"Poland\",\"2017\",\"Total\",\"Male\",\"Bialystok\",\"City proper\",\"Estimate - de jure\",\"Final figure, complete\",\"2018\",\"138234\",\"1,2\"\\r\\n\"Poland\",\"2017\",\"Total\",\"Male\",\"Bielsko-Biala\",\"City proper\",\"Estimate - de jure\",\"Final figure, complete\",\"2018\",\"80283\",\"1,2\"\\r\\n\"Poland\",\"2017\",\"Total\",\"Male\",\"Bydgoszcz\",\"City proper\",\"Estimate - de jure\",\"Final figure, complete\",\"2018\",\"166186\",\"1,2\"\\r\\n\"Poland\",\"2017\",\"Total\",\"Male\",\"Bytom\",\"City proper\",\"Estimate - de jure\",\"Final figure, complete\",\"2018\",\"79823\",\"1,2\"\\r\\n\"Poland\",\"2017\",\"Total\",\"Male\",\"Chorz\\xc3\\xb3w\",\"City proper\",\"Estimate - de jure\",\"Final figure, complete\",\"2018\",\"51382\",\"1,2\"\\r\\n\"Poland\",\"2017\",\"Total\",\"Male\",\"Czestochowa\",\"City proper\",\"Estimate - de jure\",\"Final figure, complete\",\"2018\",\"104819\",\"1,2\"\\r\\n\"Poland\",\"2017\",\"Total\",\"Male\",\"Dabrowa G\\xc3\\xb3rnicza\",\"City proper\",\"Estimate - de jure\",\"Final figure, complete\",\"2018\",\"57741\",\"1,2\"\\r\\n\"Poland\",\"2017\",\"Total\",\"Male\",\"Elblag\",\"City proper\",\"Estimate - de jure\",\"Final figure, complete\",\"2018\",\"56801\",\"1,2\"\\r\\n\"Poland\",\"2017\",\"Total\",\"Male\",\"Gdansk\",\"City proper\",\"Estimate - de jure\",\"Final figure, complete\",\"2018\",\"220029\",\"1,2\"\\r\\n\"Poland\",\"2017\",\"Total\",\"Male\",\"Gdynia\",\"City proper\",\"Estimate - de jure\",\"Final figure, complete\",\"2018\",\"115200\",\"1,2\"\\r\\n\"Poland\",\"2017\",\"Total\",\"Male\",\"Gliwice\",\"City proper\",\"Estimate - de jure\",\"Final figure, complete\",\"2018\",\"86712\",\"1,2\"\\r\\n\"Poland\",\"2017\",\"Total\",\"Male\",\"Gorz\\xc3\\xb3w Wielkopolski\",\"City proper\",\"Estimate - de jure\",\"Final figure, complete\",\"2018\",\"58052\",\"1,2\"\\r\\n\"Poland\",\"2017\",\"Total\",\"Male\",\"Grudziadz\",\"City proper\",\"Estimate - de jure\",\"Final figure, complete\",\"2018\",\"44685\",\"1,2\"\\r\\n\"Poland\",\"2017\",\"Total\",\"Male\",\"Jastrzebie-Zdr\\xc3\\xb3j\",\"City proper\",\"Estimate - de jure\",\"Final figure, complete\",\"2018\",\"43292\",\"1,2\"\\r\\n\"Poland\",\"2017\",\"Total\",\"Male\",\"Kalisz\",\"City proper\",\"Estimate - de jure\",\"Final figure, complete\",\"2018\",\"46876\",\"1,2\"\\r\\n\"Poland\",\"2017\",\"Total\",\"Male\",\"Katowice\",\"City proper\",\"Estimate - de jure\",\"Final figure, complete\",\"2018\",\"144027\",\"1,2\"\\r\\n\"Poland\",\"2017\",\"Total\",\"Male\",\"Kielce\",\"City proper\",\"Estimate - de jure\",\"Final figure, complete\",\"2018\",\"92056\",\"1,2\"\\r\\n\"Poland\",\"2017\",\"Total\",\"Male\",\"Koszalin\",\"City proper\",\"Estimate - de jure\",\"Final figure, complete\",\"2018\",\"49864\",\"1,2\"\\r\\n\"Poland\",\"2017\",\"Total\",\"Male\",\"Krak\\xc3\\xb3w\",\"City proper\",\"Estimate - de jure\",\"Final figure, complete\",\"2018\",\"354667\",\"1,2\"\\r\\n\"Poland\",\"2017\",\"Total\",\"Male\",\"Legnica\",\"City proper\",\"Estimate - de jure\",\"Final figure, complete\",\"2018\",\"46779\",\"1,2\"\\r\\n\"Poland\",\"2017\",\"Total\",\"Male\",\"L\\xc3\\xb3dz\",\"City proper\",\"Estimate - de jure\",\"Final figure, complete\",\"2018\",\"315581\",\"1,2\"\\r\\n\"Poland\",\"2017\",\"Total\",\"Male\",\"Lublin\",\"City proper\",\"Estimate - de jure\",\"Final figure, complete\",\"2018\",\"157525\",\"1,2\"\\r\\n\"Poland\",\"2017\",\"Total\",\"Male\",\"Olsztyn\",\"City proper\",\"Estimate - de jure\",\"Final figure, complete\",\"2018\",\"81005\",\"1,2\"\\r\\n\"Poland\",\"2017\",\"Total\",\"Male\",\"Opole\",\"City proper\",\"Estimate - de jure\",\"Final figure, complete\",\"2018\",\"60059\",\"1,2\"\\r\\n\"Poland\",\"2017\",\"Total\",\"Male\",\"Plock\",\"City proper\",\"Estimate - de jure\",\"Final figure, complete\",\"2018\",\"56581\",\"1,2\"\\r\\n\"Poland\",\"2017\",\"Total\",\"Male\",\"Poznan\",\"City proper\",\"Estimate - de jure\",\"Final figure, complete\",\"2018\",\"251515\",\"1,2\"\\r\\n\"Poland\",\"2017\",\"Total\",\"Male\",\"Radom\",\"City proper\",\"Estimate - de jure\",\"Final figure, complete\",\"2018\",\"100980\",\"1,2\"\\r\\n\"Poland\",\"2017\",\"Total\",\"Male\",\"Ruda Slaska\",\"City proper\",\"Estimate - de jure\",\"Final figure, complete\",\"2018\",\"66521\",\"1,2\"\\r\\n\"Poland\",\"2017\",\"Total\",\"Male\",\"Rybnik\",\"City proper\",\"Estimate - de jure\",\"Final figure, complete\",\"2018\",\"67049\",\"1,2\"\\r\\n\"Poland\",\"2017\",\"Total\",\"Male\",\"Rzesz\\xc3\\xb3w\",\"City proper\",\"Estimate - de jure\",\"Final figure, complete\",\"2018\",\"88270\",\"1,2\"\\r\\n\"Poland\",\"2017\",\"Total\",\"Male\",\"Slupsk\",\"City proper\",\"Estimate - de jure\",\"Final figure, complete\",\"2018\",\"42471\",\"1,2\"\\r\\n\"Poland\",\"2017\",\"Total\",\"Male\",\"Sosnowiec\",\"City proper\",\"Estimate - de jure\",\"Final figure, complete\",\"2018\",\"96035\",\"1,2\"\\r\\n\"Poland\",\"2017\",\"Total\",\"Male\",\"Szczecin\",\"City proper\",\"Estimate - de jure\",\"Final figure, complete\",\"2018\",\"191243\",\"1,2\"\\r\\n\"Poland\",\"2017\",\"Total\",\"Male\",\"Tarn\\xc3\\xb3w\",\"City proper\",\"Estimate - de jure\",\"Final figure, complete\",\"2018\",\"50282\",\"1,2\"\\r\\n\"Poland\",\"2017\",\"Total\",\"Male\",\"Torun\",\"City proper\",\"Estimate - de jure\",\"Final figure, complete\",\"2018\",\"92705\",\"1,2\"\\r\\n\"Poland\",\"2017\",\"Total\",\"Male\",\"Tychy\",\"City proper\",\"Estimate - de jure\",\"Final figure, complete\",\"2018\",\"61053\",\"1,2\"\\r\\n\"Poland\",\"2017\",\"Total\",\"Male\",\"Walbrzych\",\"City proper\",\"Estimate - de jure\",\"Final figure, complete\",\"2018\",\"53132\",\"1,2\"\\r\\n\"Poland\",\"2017\",\"Total\",\"Male\",\"WARSZAWA\",\"City proper\",\"Estimate - de jure\",\"Final figure, complete\",\"2018\",\"806730\",\"1,2\"\\r\\n\"Poland\",\"2017\",\"Total\",\"Male\",\"Wloclawek\",\"City proper\",\"Estimate - de jure\",\"Final figure, complete\",\"2018\",\"51999\",\"1,2\"\\r\\n\"Poland\",\"2017\",\"Total\",\"Male\",\"Wroclaw\",\"City proper\",\"Estimate - de jure\",\"Final figure, complete\",\"2018\",\"297251\",\"1,2\"\\r\\n\"Poland\",\"2017\",\"Total\",\"Male\",\"Zabrze\",\"City proper\",\"Estimate - de jure\",\"Final figure, complete\",\"2018\",\"83411\",\"1,2\"\\r\\n\"Poland\",\"2017\",\"Total\",\"Male\",\"Zielona G\\xc3\\xb3ra\",\"City proper\",\"Estimate - de jure\",\"Final figure, complete\",\"2018\",\"66649\",\"1,2\"\\r\\n\"Poland\",\"2017\",\"Total\",\"Female\",\"Bialystok\",\"City proper\",\"Estimate - de jure\",\"Final figure, complete\",\"2018\",\"156128\",\"1,2\"\\r\\n\"Poland\",\"2017\",\"Total\",\"Female\",\"Bielsko-Biala\",\"City proper\",\"Estimate - de jure\",\"Final figure, complete\",\"2018\",\"89722\",\"1,2\"\\r\\n\"Poland\",\"2017\",\"Total\",\"Female\",\"Bydgoszcz\",\"City proper\",\"Estimate - de jure\",\"Final figure, complete\",\"2018\",\"186684\",\"1,2\"\\r\\n\"Poland\",\"2017\",\"Total\",\"Female\",\"Bytom\",\"City proper\",\"Estimate - de jure\",\"Final figure, complete\",\"2018\",\"87536\",\"1,2\"\\r\\n\"Poland\",\"2017\",\"Total\",\"Female\",\"Chorz\\xc3\\xb3w\",\"City proper\",\"Estimate - de jure\",\"Final figure, complete\",\"2018\",\"56823\",\"1,2\"\\r\\n\"Poland\",\"2017\",\"Total\",\"Female\",\"Czestochowa\",\"City proper\",\"Estimate - de jure\",\"Final figure, complete\",\"2018\",\"118554\",\"1,2\"\\r\\n\"Poland\",\"2017\",\"Total\",\"Female\",\"Dabrowa G\\xc3\\xb3rnicza\",\"City proper\",\"Estimate - de jure\",\"Final figure, complete\",\"2018\",\"62737\",\"1,2\"\\r\\n\"Poland\",\"2017\",\"Total\",\"Female\",\"Elblag\",\"City proper\",\"Estimate - de jure\",\"Final figure, complete\",\"2018\",\"62124\",\"1,2\"\\r\\n\"Poland\",\"2017\",\"Total\",\"Female\",\"Gdansk\",\"City proper\",\"Estimate - de jure\",\"Final figure, complete\",\"2018\",\"243323\",\"1,2\"\\r\\n\"Poland\",\"2017\",\"Total\",\"Female\",\"Gdynia\",\"City proper\",\"Estimate - de jure\",\"Final figure, complete\",\"2018\",\"128710\",\"1,2\"\\r\\n\"Poland\",\"2017\",\"Total\",\"Female\",\"Gliwice\",\"City proper\",\"Estimate - de jure\",\"Final figure, complete\",\"2018\",\"93481\",\"1,2\"\\r\\n\"Poland\",\"2017\",\"Total\",\"Female\",\"Gorz\\xc3\\xb3w Wielkopolski\",\"City proper\",\"Estimate - de jure\",\"Final figure, complete\",\"2018\",\"64247\",\"1,2\"\\r\\n\"Poland\",\"2017\",\"Total\",\"Female\",\"Grudziadz\",\"City proper\",\"Estimate - de jure\",\"Final figure, complete\",\"2018\",\"49383\",\"1,2\"\\r\\n\"Poland\",\"2017\",\"Total\",\"Female\",\"Jastrzebie-Zdr\\xc3\\xb3j\",\"City proper\",\"Estimate - de jure\",\"Final figure, complete\",\"2018\",\"45449\",\"1,2\"\\r\\n\"Poland\",\"2017\",\"Total\",\"Female\",\"Kalisz\",\"City proper\",\"Estimate - de jure\",\"Final figure, complete\",\"2018\",\"53936\",\"1,2\"\\r\\n\"Poland\",\"2017\",\"Total\",\"Female\",\"Katowice\",\"City proper\",\"Estimate - de jure\",\"Final figure, complete\",\"2018\",\"157175\",\"1,2\"\\r\\n\"Poland\",\"2017\",\"Total\",\"Female\",\"Kielce\",\"City proper\",\"Estimate - de jure\",\"Final figure, complete\",\"2018\",\"103599\",\"1,2\"\\r\\n\"Poland\",\"2017\",\"Total\",\"Female\",\"Koszalin\",\"City proper\",\"Estimate - de jure\",\"Final figure, complete\",\"2018\",\"56125\",\"1,2\"\\r\\n\"Poland\",\"2017\",\"Total\",\"Female\",\"Krak\\xc3\\xb3w\",\"City proper\",\"Estimate - de jure\",\"Final figure, complete\",\"2018\",\"404437\",\"1,2\"\\r\\n\"Poland\",\"2017\",\"Total\",\"Female\",\"Legnica\",\"City proper\",\"Estimate - de jure\",\"Final figure, complete\",\"2018\",\"52182\",\"1,2\"\\r\\n\"Poland\",\"2017\",\"Total\",\"Female\",\"L\\xc3\\xb3dz\",\"City proper\",\"Estimate - de jure\",\"Final figure, complete\",\"2018\",\"376703\",\"1,2\"\\r\\n\"Poland\",\"2017\",\"Total\",\"Female\",\"Lublin\",\"City proper\",\"Estimate - de jure\",\"Final figure, complete\",\"2018\",\"184269\",\"1,2\"\\r\\n\"Poland\",\"2017\",\"Total\",\"Female\",\"Olsztyn\",\"City proper\",\"Estimate - de jure\",\"Final figure, complete\",\"2018\",\"92688\",\"1,2\"\\r\\n\"Poland\",\"2017\",\"Total\",\"Female\",\"Opole\",\"City proper\",\"Estimate - de jure\",\"Final figure, complete\",\"2018\",\"67025\",\"1,2\"\\r\\n\"Poland\",\"2017\",\"Total\",\"Female\",\"Plock\",\"City proper\",\"Estimate - de jure\",\"Final figure, complete\",\"2018\",\"63259\",\"1,2\"\\r\\n\"Poland\",\"2017\",\"Total\",\"Female\",\"Poznan\",\"City proper\",\"Estimate - de jure\",\"Final figure, complete\",\"2018\",\"286924\",\"1,2\"\\r\\n\"Poland\",\"2017\",\"Total\",\"Female\",\"Radom\",\"City proper\",\"Estimate - de jure\",\"Final figure, complete\",\"2018\",\"111785\",\"1,2\"\\r\\n\"Poland\",\"2017\",\"Total\",\"Female\",\"Ruda Slaska\",\"City proper\",\"Estimate - de jure\",\"Final figure, complete\",\"2018\",\"71025\",\"1,2\"\\r\\n\"Poland\",\"2017\",\"Total\",\"Female\",\"Rybnik\",\"City proper\",\"Estimate - de jure\",\"Final figure, complete\",\"2018\",\"70387\",\"1,2\"\\r\\n\"Poland\",\"2017\",\"Total\",\"Female\",\"Rzesz\\xc3\\xb3w\",\"City proper\",\"Estimate - de jure\",\"Final figure, complete\",\"2018\",\"98121\",\"1,2\"\\r\\n\"Poland\",\"2017\",\"Total\",\"Female\",\"Slupsk\",\"City proper\",\"Estimate - de jure\",\"Final figure, complete\",\"2018\",\"48167\",\"1,2\"\\r\\n\"Poland\",\"2017\",\"Total\",\"Female\",\"Sosnowiec\",\"City proper\",\"Estimate - de jure\",\"Final figure, complete\",\"2018\",\"106966\",\"1,2\"\\r\\n\"Poland\",\"2017\",\"Total\",\"Female\",\"Szczecin\",\"City proper\",\"Estimate - de jure\",\"Final figure, complete\",\"2018\",\"210697\",\"1,2\"\\r\\n\"Poland\",\"2017\",\"Total\",\"Female\",\"Tarn\\xc3\\xb3w\",\"City proper\",\"Estimate - de jure\",\"Final figure, complete\",\"2018\",\"56427\",\"1,2\"\\r\\n\"Poland\",\"2017\",\"Total\",\"Female\",\"Torun\",\"City proper\",\"Estimate - de jure\",\"Final figure, complete\",\"2018\",\"106785\",\"1,2\"\\r\\n\"Poland\",\"2017\",\"Total\",\"Female\",\"Tychy\",\"City proper\",\"Estimate - de jure\",\"Final figure, complete\",\"2018\",\"65608\",\"1,2\"\\r\\n\"Poland\",\"2017\",\"Total\",\"Female\",\"Walbrzych\",\"City proper\",\"Estimate - de jure\",\"Final figure, complete\",\"2018\",\"59588\",\"1,2\"\\r\\n\"Poland\",\"2017\",\"Total\",\"Female\",\"WARSZAWA\",\"City proper\",\"Estimate - de jure\",\"Final figure, complete\",\"2018\",\"947781\",\"1,2\"\\r\\n\"Poland\",\"2017\",\"Total\",\"Female\",\"Wloclawek\",\"City proper\",\"Estimate - de jure\",\"Final figure, complete\",\"2018\",\"58564\",\"1,2\"\\r\\n\"Poland\",\"2017\",\"Total\",\"Female\",\"Wroclaw\",\"City proper\",\"Estimate - de jure\",\"Final figure, complete\",\"2018\",\"337622\",\"1,2\"\\r\\n\"Poland\",\"2017\",\"Total\",\"Female\",\"Zabrze\",\"City proper\",\"Estimate - de jure\",\"Final figure, complete\",\"2018\",\"89498\",\"1,2\"\\r\\n\"Poland\",\"2017\",\"Total\",\"Female\",\"Zielona G\\xc3\\xb3ra\",\"City proper\",\"Estimate - de jure\",\"Final figure, complete\",\"2018\",\"73169\",\"1,2\"\\r\\n\\r\\n'}"
            ]
          },
          "metadata": {
            "tags": []
          },
          "execution_count": 2
        }
      ]
    },
    {
      "cell_type": "code",
      "metadata": {
        "id": "ujHH3nE8h8U4",
        "colab_type": "code",
        "colab": {
          "base_uri": "https://localhost:8080/",
          "height": 34
        },
        "outputId": "671c67d9-2b8e-48f2-a9ee-bfba2025c174"
      },
      "source": [
        "!ls -a"
      ],
      "execution_count": 3,
      "outputs": [
        {
          "output_type": "stream",
          "text": [
            ".  ..  .config\tpopulation.csv\tsample_data\n"
          ],
          "name": "stdout"
        }
      ]
    },
    {
      "cell_type": "code",
      "metadata": {
        "id": "LdNltyXLjq1N",
        "colab_type": "code",
        "colab": {
          "base_uri": "https://localhost:8080/",
          "height": 326
        },
        "outputId": "2e651752-2088-4844-85f0-d90f940824a2"
      },
      "source": [
        "import pandas as pd\n",
        "\n",
        "pd.read_csv('population.csv').head()"
      ],
      "execution_count": 6,
      "outputs": [
        {
          "output_type": "execute_result",
          "data": {
            "text/html": [
              "<div>\n",
              "<style scoped>\n",
              "    .dataframe tbody tr th:only-of-type {\n",
              "        vertical-align: middle;\n",
              "    }\n",
              "\n",
              "    .dataframe tbody tr th {\n",
              "        vertical-align: top;\n",
              "    }\n",
              "\n",
              "    .dataframe thead th {\n",
              "        text-align: right;\n",
              "    }\n",
              "</style>\n",
              "<table border=\"1\" class=\"dataframe\">\n",
              "  <thead>\n",
              "    <tr style=\"text-align: right;\">\n",
              "      <th></th>\n",
              "      <th>Country or Area</th>\n",
              "      <th>Year</th>\n",
              "      <th>Area</th>\n",
              "      <th>Sex</th>\n",
              "      <th>City</th>\n",
              "      <th>City type</th>\n",
              "      <th>Record Type</th>\n",
              "      <th>Reliability</th>\n",
              "      <th>Source Year</th>\n",
              "      <th>Value</th>\n",
              "      <th>Value Footnotes</th>\n",
              "    </tr>\n",
              "  </thead>\n",
              "  <tbody>\n",
              "    <tr>\n",
              "      <th>0</th>\n",
              "      <td>Poland</td>\n",
              "      <td>2017</td>\n",
              "      <td>Total</td>\n",
              "      <td>Both Sexes</td>\n",
              "      <td>Bialystok</td>\n",
              "      <td>City proper</td>\n",
              "      <td>Estimate - de jure</td>\n",
              "      <td>Final figure, complete</td>\n",
              "      <td>2018</td>\n",
              "      <td>294362</td>\n",
              "      <td>1,2</td>\n",
              "    </tr>\n",
              "    <tr>\n",
              "      <th>1</th>\n",
              "      <td>Poland</td>\n",
              "      <td>2017</td>\n",
              "      <td>Total</td>\n",
              "      <td>Both Sexes</td>\n",
              "      <td>Bielsko-Biala</td>\n",
              "      <td>City proper</td>\n",
              "      <td>Estimate - de jure</td>\n",
              "      <td>Final figure, complete</td>\n",
              "      <td>2018</td>\n",
              "      <td>170005</td>\n",
              "      <td>1,2</td>\n",
              "    </tr>\n",
              "    <tr>\n",
              "      <th>2</th>\n",
              "      <td>Poland</td>\n",
              "      <td>2017</td>\n",
              "      <td>Total</td>\n",
              "      <td>Both Sexes</td>\n",
              "      <td>Bydgoszcz</td>\n",
              "      <td>City proper</td>\n",
              "      <td>Estimate - de jure</td>\n",
              "      <td>Final figure, complete</td>\n",
              "      <td>2018</td>\n",
              "      <td>352870</td>\n",
              "      <td>1,2</td>\n",
              "    </tr>\n",
              "    <tr>\n",
              "      <th>3</th>\n",
              "      <td>Poland</td>\n",
              "      <td>2017</td>\n",
              "      <td>Total</td>\n",
              "      <td>Both Sexes</td>\n",
              "      <td>Bytom</td>\n",
              "      <td>City proper</td>\n",
              "      <td>Estimate - de jure</td>\n",
              "      <td>Final figure, complete</td>\n",
              "      <td>2018</td>\n",
              "      <td>167359</td>\n",
              "      <td>1,2</td>\n",
              "    </tr>\n",
              "    <tr>\n",
              "      <th>4</th>\n",
              "      <td>Poland</td>\n",
              "      <td>2017</td>\n",
              "      <td>Total</td>\n",
              "      <td>Both Sexes</td>\n",
              "      <td>Chorzów</td>\n",
              "      <td>City proper</td>\n",
              "      <td>Estimate - de jure</td>\n",
              "      <td>Final figure, complete</td>\n",
              "      <td>2018</td>\n",
              "      <td>108205</td>\n",
              "      <td>1,2</td>\n",
              "    </tr>\n",
              "  </tbody>\n",
              "</table>\n",
              "</div>"
            ],
            "text/plain": [
              "  Country or Area  Year   Area  ... Source Year   Value Value Footnotes\n",
              "0          Poland  2017  Total  ...        2018  294362             1,2\n",
              "1          Poland  2017  Total  ...        2018  170005             1,2\n",
              "2          Poland  2017  Total  ...        2018  352870             1,2\n",
              "3          Poland  2017  Total  ...        2018  167359             1,2\n",
              "4          Poland  2017  Total  ...        2018  108205             1,2\n",
              "\n",
              "[5 rows x 11 columns]"
            ]
          },
          "metadata": {
            "tags": []
          },
          "execution_count": 6
        }
      ]
    },
    {
      "cell_type": "markdown",
      "metadata": {
        "id": "FHyyeVkSikkn",
        "colab_type": "text"
      },
      "source": [
        "## Pobieranie plików\n",
        "\n",
        "W przypadku plików dostępnych w internecie można również wykorzystać narzędzia `wget` aby pobrać je na dysk."
      ]
    },
    {
      "cell_type": "code",
      "metadata": {
        "id": "QRMAxTMyiCZ7",
        "colab_type": "code",
        "colab": {
          "base_uri": "https://localhost:8080/",
          "height": 224
        },
        "outputId": "659cfdc2-0408-43c6-d26a-b58987d2d296"
      },
      "source": [
        "!wget https://archive.ics.uci.edu/ml/machine-learning-databases/iris/iris.data"
      ],
      "execution_count": 4,
      "outputs": [
        {
          "output_type": "stream",
          "text": [
            "--2019-08-29 08:47:05--  https://archive.ics.uci.edu/ml/machine-learning-databases/iris/iris.data\n",
            "Resolving archive.ics.uci.edu (archive.ics.uci.edu)... 128.195.10.252\n",
            "Connecting to archive.ics.uci.edu (archive.ics.uci.edu)|128.195.10.252|:443... connected.\n",
            "HTTP request sent, awaiting response... 200 OK\n",
            "Length: 4551 (4.4K) [application/x-httpd-php]\n",
            "Saving to: ‘iris.data’\n",
            "\n",
            "\riris.data             0%[                    ]       0  --.-KB/s               \riris.data           100%[===================>]   4.44K  --.-KB/s    in 0s      \n",
            "\n",
            "2019-08-29 08:47:05 (103 MB/s) - ‘iris.data’ saved [4551/4551]\n",
            "\n"
          ],
          "name": "stdout"
        }
      ]
    },
    {
      "cell_type": "code",
      "metadata": {
        "id": "qPf_z3yEjooO",
        "colab_type": "code",
        "colab": {
          "base_uri": "https://localhost:8080/",
          "height": 34
        },
        "outputId": "648c891e-c3b6-45df-875a-b966795f20e7"
      },
      "source": [
        "!ls -a"
      ],
      "execution_count": 7,
      "outputs": [
        {
          "output_type": "stream",
          "text": [
            ".  ..  .config\tiris.data  population.csv  sample_data\n"
          ],
          "name": "stdout"
        }
      ]
    },
    {
      "cell_type": "code",
      "metadata": {
        "id": "fdog9_W4jyCR",
        "colab_type": "code",
        "colab": {
          "base_uri": "https://localhost:8080/",
          "height": 204
        },
        "outputId": "1f1acb18-1abc-4252-d616-0bf6e674d21e"
      },
      "source": [
        "pd.read_csv('iris.data', header=None).head()"
      ],
      "execution_count": 9,
      "outputs": [
        {
          "output_type": "execute_result",
          "data": {
            "text/html": [
              "<div>\n",
              "<style scoped>\n",
              "    .dataframe tbody tr th:only-of-type {\n",
              "        vertical-align: middle;\n",
              "    }\n",
              "\n",
              "    .dataframe tbody tr th {\n",
              "        vertical-align: top;\n",
              "    }\n",
              "\n",
              "    .dataframe thead th {\n",
              "        text-align: right;\n",
              "    }\n",
              "</style>\n",
              "<table border=\"1\" class=\"dataframe\">\n",
              "  <thead>\n",
              "    <tr style=\"text-align: right;\">\n",
              "      <th></th>\n",
              "      <th>0</th>\n",
              "      <th>1</th>\n",
              "      <th>2</th>\n",
              "      <th>3</th>\n",
              "      <th>4</th>\n",
              "    </tr>\n",
              "  </thead>\n",
              "  <tbody>\n",
              "    <tr>\n",
              "      <th>0</th>\n",
              "      <td>5.1</td>\n",
              "      <td>3.5</td>\n",
              "      <td>1.4</td>\n",
              "      <td>0.2</td>\n",
              "      <td>Iris-setosa</td>\n",
              "    </tr>\n",
              "    <tr>\n",
              "      <th>1</th>\n",
              "      <td>4.9</td>\n",
              "      <td>3.0</td>\n",
              "      <td>1.4</td>\n",
              "      <td>0.2</td>\n",
              "      <td>Iris-setosa</td>\n",
              "    </tr>\n",
              "    <tr>\n",
              "      <th>2</th>\n",
              "      <td>4.7</td>\n",
              "      <td>3.2</td>\n",
              "      <td>1.3</td>\n",
              "      <td>0.2</td>\n",
              "      <td>Iris-setosa</td>\n",
              "    </tr>\n",
              "    <tr>\n",
              "      <th>3</th>\n",
              "      <td>4.6</td>\n",
              "      <td>3.1</td>\n",
              "      <td>1.5</td>\n",
              "      <td>0.2</td>\n",
              "      <td>Iris-setosa</td>\n",
              "    </tr>\n",
              "    <tr>\n",
              "      <th>4</th>\n",
              "      <td>5.0</td>\n",
              "      <td>3.6</td>\n",
              "      <td>1.4</td>\n",
              "      <td>0.2</td>\n",
              "      <td>Iris-setosa</td>\n",
              "    </tr>\n",
              "  </tbody>\n",
              "</table>\n",
              "</div>"
            ],
            "text/plain": [
              "     0    1    2    3            4\n",
              "0  5.1  3.5  1.4  0.2  Iris-setosa\n",
              "1  4.9  3.0  1.4  0.2  Iris-setosa\n",
              "2  4.7  3.2  1.3  0.2  Iris-setosa\n",
              "3  4.6  3.1  1.5  0.2  Iris-setosa\n",
              "4  5.0  3.6  1.4  0.2  Iris-setosa"
            ]
          },
          "metadata": {
            "tags": []
          },
          "execution_count": 9
        }
      ]
    },
    {
      "cell_type": "markdown",
      "metadata": {
        "id": "RN7NgKbjlCWc",
        "colab_type": "text"
      },
      "source": [
        "## Klonowanie repozytorium\n",
        "\n",
        "Jeżeli dane dostępne są w postaci repozytorium to można je pobrać poprzez klonowanie. Możliwe jest również klonowanie repozytoriów z kodem programu w Pythonie, by wykorzystać go w zeszycie."
      ]
    },
    {
      "cell_type": "code",
      "metadata": {
        "id": "mLVMirCpj1kU",
        "colab_type": "code",
        "colab": {
          "base_uri": "https://localhost:8080/",
          "height": 119
        },
        "outputId": "b55560bc-aec7-4b12-c520-1bbdd75bbf26"
      },
      "source": [
        "!git clone https://github.com/PiotrJZielinski/ml-throwdown-datasets"
      ],
      "execution_count": 10,
      "outputs": [
        {
          "output_type": "stream",
          "text": [
            "Cloning into 'ml-throwdown-datasets'...\n",
            "remote: Enumerating objects: 13, done.\u001b[K\n",
            "remote: Counting objects: 100% (13/13), done.\u001b[K\n",
            "remote: Compressing objects: 100% (13/13), done.\u001b[K\n",
            "remote: Total 13 (delta 0), reused 13 (delta 0), pack-reused 0\u001b[K\n",
            "Unpacking objects: 100% (13/13), done.\n"
          ],
          "name": "stdout"
        }
      ]
    },
    {
      "cell_type": "code",
      "metadata": {
        "id": "4a9iHBOFlbuu",
        "colab_type": "code",
        "colab": {
          "base_uri": "https://localhost:8080/",
          "height": 54
        },
        "outputId": "7da19fcd-ad8e-422b-869d-70f244a04704"
      },
      "source": [
        "!ls -a"
      ],
      "execution_count": 11,
      "outputs": [
        {
          "output_type": "stream",
          "text": [
            ".  ..  .config\tiris.data  ml-throwdown-datasets  population.csv  sample_data\n"
          ],
          "name": "stdout"
        }
      ]
    },
    {
      "cell_type": "code",
      "metadata": {
        "id": "w8JJc3FGldtZ",
        "colab_type": "code",
        "colab": {
          "base_uri": "https://localhost:8080/",
          "height": 68
        },
        "outputId": "aac80936-bcaa-4c64-df72-e17196e40700"
      },
      "source": [
        "!ls ml-throwdown-datasets/"
      ],
      "execution_count": 12,
      "outputs": [
        {
          "output_type": "stream",
          "text": [
            "abalone.csv\t   coil_2000.csv    diabetes.csv  pendigits.csv\n",
            "auto_mpg.csv\t   communities.csv  glass.csv\t  wine.csv\n",
            "breast_cancer.csv  concrete.csv     iris.csv\n"
          ],
          "name": "stdout"
        }
      ]
    },
    {
      "cell_type": "code",
      "metadata": {
        "id": "HQ59IudSlgud",
        "colab_type": "code",
        "colab": {
          "base_uri": "https://localhost:8080/",
          "height": 241
        },
        "outputId": "f88fdbeb-4df4-4a19-9e21-a66710eb4205"
      },
      "source": [
        "pd.read_csv('ml-throwdown-datasets/glass.csv').head()"
      ],
      "execution_count": 13,
      "outputs": [
        {
          "output_type": "execute_result",
          "data": {
            "text/html": [
              "<div>\n",
              "<style scoped>\n",
              "    .dataframe tbody tr th:only-of-type {\n",
              "        vertical-align: middle;\n",
              "    }\n",
              "\n",
              "    .dataframe tbody tr th {\n",
              "        vertical-align: top;\n",
              "    }\n",
              "\n",
              "    .dataframe thead th {\n",
              "        text-align: right;\n",
              "    }\n",
              "</style>\n",
              "<table border=\"1\" class=\"dataframe\">\n",
              "  <thead>\n",
              "    <tr style=\"text-align: right;\">\n",
              "      <th></th>\n",
              "      <th>ID</th>\n",
              "      <th>refractive index</th>\n",
              "      <th>Sodium</th>\n",
              "      <th>Magnesium</th>\n",
              "      <th>Aluminum</th>\n",
              "      <th>Silicon</th>\n",
              "      <th>Potassium</th>\n",
              "      <th>Calcium</th>\n",
              "      <th>Barium</th>\n",
              "      <th>Iron</th>\n",
              "      <th>Type</th>\n",
              "    </tr>\n",
              "  </thead>\n",
              "  <tbody>\n",
              "    <tr>\n",
              "      <th>0</th>\n",
              "      <td>1</td>\n",
              "      <td>1.52101</td>\n",
              "      <td>13.64</td>\n",
              "      <td>4.49</td>\n",
              "      <td>1.10</td>\n",
              "      <td>71.78</td>\n",
              "      <td>0.06</td>\n",
              "      <td>8.75</td>\n",
              "      <td>0.0</td>\n",
              "      <td>0.0</td>\n",
              "      <td>building_windows_float_processed</td>\n",
              "    </tr>\n",
              "    <tr>\n",
              "      <th>1</th>\n",
              "      <td>2</td>\n",
              "      <td>1.51761</td>\n",
              "      <td>13.89</td>\n",
              "      <td>3.60</td>\n",
              "      <td>1.36</td>\n",
              "      <td>72.73</td>\n",
              "      <td>0.48</td>\n",
              "      <td>7.83</td>\n",
              "      <td>0.0</td>\n",
              "      <td>0.0</td>\n",
              "      <td>building_windows_float_processed</td>\n",
              "    </tr>\n",
              "    <tr>\n",
              "      <th>2</th>\n",
              "      <td>3</td>\n",
              "      <td>1.51618</td>\n",
              "      <td>13.53</td>\n",
              "      <td>3.55</td>\n",
              "      <td>1.54</td>\n",
              "      <td>72.99</td>\n",
              "      <td>0.39</td>\n",
              "      <td>7.78</td>\n",
              "      <td>0.0</td>\n",
              "      <td>0.0</td>\n",
              "      <td>building_windows_float_processed</td>\n",
              "    </tr>\n",
              "    <tr>\n",
              "      <th>3</th>\n",
              "      <td>4</td>\n",
              "      <td>1.51766</td>\n",
              "      <td>13.21</td>\n",
              "      <td>3.69</td>\n",
              "      <td>1.29</td>\n",
              "      <td>72.61</td>\n",
              "      <td>0.57</td>\n",
              "      <td>8.22</td>\n",
              "      <td>0.0</td>\n",
              "      <td>0.0</td>\n",
              "      <td>building_windows_float_processed</td>\n",
              "    </tr>\n",
              "    <tr>\n",
              "      <th>4</th>\n",
              "      <td>5</td>\n",
              "      <td>1.51742</td>\n",
              "      <td>13.27</td>\n",
              "      <td>3.62</td>\n",
              "      <td>1.24</td>\n",
              "      <td>73.08</td>\n",
              "      <td>0.55</td>\n",
              "      <td>8.07</td>\n",
              "      <td>0.0</td>\n",
              "      <td>0.0</td>\n",
              "      <td>building_windows_float_processed</td>\n",
              "    </tr>\n",
              "  </tbody>\n",
              "</table>\n",
              "</div>"
            ],
            "text/plain": [
              "   ID  refractive index  Sodium  ...  Barium  Iron                              Type\n",
              "0   1           1.52101   13.64  ...     0.0   0.0  building_windows_float_processed\n",
              "1   2           1.51761   13.89  ...     0.0   0.0  building_windows_float_processed\n",
              "2   3           1.51618   13.53  ...     0.0   0.0  building_windows_float_processed\n",
              "3   4           1.51766   13.21  ...     0.0   0.0  building_windows_float_processed\n",
              "4   5           1.51742   13.27  ...     0.0   0.0  building_windows_float_processed\n",
              "\n",
              "[5 rows x 11 columns]"
            ]
          },
          "metadata": {
            "tags": []
          },
          "execution_count": 13
        }
      ]
    },
    {
      "cell_type": "markdown",
      "metadata": {
        "id": "WBWjNL9soSbD",
        "colab_type": "text"
      },
      "source": [
        "## Połącz z dyskiem Google\n",
        "\n",
        "Jedną z najwygodniejszych metod jest połączenie z dyskiem Google, dzięki czemu można łatwo i szybko zapisać pliki w miejscu, z którego nie znikną."
      ]
    },
    {
      "cell_type": "code",
      "metadata": {
        "id": "ICbBvo8InkQB",
        "colab_type": "code",
        "colab": {}
      },
      "source": [
        "from google.colab import drive"
      ],
      "execution_count": 0,
      "outputs": []
    },
    {
      "cell_type": "code",
      "metadata": {
        "id": "IfW6ZKDvodId",
        "colab_type": "code",
        "colab": {
          "base_uri": "https://localhost:8080/",
          "height": 122
        },
        "outputId": "812bb1d7-0518-4977-89cb-1c170c8b32c9"
      },
      "source": [
        "drive.mount('/content/gdrive')"
      ],
      "execution_count": 21,
      "outputs": [
        {
          "output_type": "stream",
          "text": [
            "Go to this URL in a browser: https://accounts.google.com/o/oauth2/auth?client_id=947318989803-6bn6qk8qdgf4n4g3pfee6491hc0brc4i.apps.googleusercontent.com&redirect_uri=urn%3Aietf%3Awg%3Aoauth%3A2.0%3Aoob&scope=email%20https%3A%2F%2Fwww.googleapis.com%2Fauth%2Fdocs.test%20https%3A%2F%2Fwww.googleapis.com%2Fauth%2Fdrive%20https%3A%2F%2Fwww.googleapis.com%2Fauth%2Fdrive.photos.readonly%20https%3A%2F%2Fwww.googleapis.com%2Fauth%2Fpeopleapi.readonly&response_type=code\n",
            "\n",
            "Enter your authorization code:\n",
            "··········\n",
            "Mounted at /content/gdrive\n"
          ],
          "name": "stdout"
        }
      ]
    },
    {
      "cell_type": "code",
      "metadata": {
        "id": "gPROusraofnz",
        "colab_type": "code",
        "colab": {
          "base_uri": "https://localhost:8080/",
          "height": 51
        },
        "outputId": "68b12318-fef5-4f6b-eaf8-2da76d36785e"
      },
      "source": [
        "!ls -a"
      ],
      "execution_count": 22,
      "outputs": [
        {
          "output_type": "stream",
          "text": [
            ".   .config  iris.data\t\t    population.csv\n",
            "..  gdrive   ml-throwdown-datasets  sample_data\n"
          ],
          "name": "stdout"
        }
      ]
    },
    {
      "cell_type": "code",
      "metadata": {
        "id": "Gm8fqOxGomcG",
        "colab_type": "code",
        "colab": {
          "base_uri": "https://localhost:8080/",
          "height": 34
        },
        "outputId": "b741cfa5-c68f-4e09-f3fe-d359ed11c611"
      },
      "source": [
        "!ls gdrive/'My Drive'/colab/"
      ],
      "execution_count": 27,
      "outputs": [
        {
          "output_type": "stream",
          "text": [
            "sma2  sma3  sma4\n"
          ],
          "name": "stdout"
        }
      ]
    },
    {
      "cell_type": "markdown",
      "metadata": {
        "id": "0LcvA9NYpANi",
        "colab_type": "text"
      },
      "source": [
        "## Pobieranie plików z Google Colaboratory"
      ]
    },
    {
      "cell_type": "code",
      "metadata": {
        "id": "Lf4PU6TuooOu",
        "colab_type": "code",
        "colab": {}
      },
      "source": [
        "from google.colab import files\n"
      ],
      "execution_count": 0,
      "outputs": []
    },
    {
      "cell_type": "code",
      "metadata": {
        "id": "i-ydx8IppG-z",
        "colab_type": "code",
        "colab": {
          "base_uri": "https://localhost:8080/",
          "height": 51
        },
        "outputId": "788870d0-46ff-422c-8269-e9cb9ce2aa7e"
      },
      "source": [
        "!ls -a\n",
        "files.download('ml-throwdown-datasets/glass.csv')"
      ],
      "execution_count": 30,
      "outputs": [
        {
          "output_type": "stream",
          "text": [
            ".   .config  iris.data\t\t    population.csv\n",
            "..  gdrive   ml-throwdown-datasets  sample_data\n"
          ],
          "name": "stdout"
        }
      ]
    },
    {
      "cell_type": "markdown",
      "metadata": {
        "id": "YxGsXxhzqrCj",
        "colab_type": "text"
      },
      "source": [
        "# Dostęp do konsoli Linuksa\n",
        "\n",
        "Colaboratory umożliwia dostęp do konsoli systemu maszyny, na której działa. W tym celu należy komendy poprzedzić znakiem `!`."
      ]
    },
    {
      "cell_type": "code",
      "metadata": {
        "id": "Z7PDbz9Jpd_G",
        "colab_type": "code",
        "colab": {
          "base_uri": "https://localhost:8080/",
          "height": 377
        },
        "outputId": "90655cec-3c6c-4067-9712-9e4f9cecc93c"
      },
      "source": [
        "!apt update"
      ],
      "execution_count": 32,
      "outputs": [
        {
          "output_type": "stream",
          "text": [
            "Get:1 https://cloud.r-project.org/bin/linux/ubuntu bionic-cran35/ InRelease [3,626 B]\n",
            "Ign:2 https://developer.download.nvidia.com/compute/cuda/repos/ubuntu1804/x86_64  InRelease\n",
            "Hit:3 http://archive.ubuntu.com/ubuntu bionic InRelease\n",
            "Get:4 http://security.ubuntu.com/ubuntu bionic-security InRelease [88.7 kB]\n",
            "Hit:5 http://ppa.launchpad.net/graphics-drivers/ppa/ubuntu bionic InRelease\n",
            "Ign:6 https://developer.download.nvidia.com/compute/machine-learning/repos/ubuntu1804/x86_64  InRelease\n",
            "Hit:7 https://developer.download.nvidia.com/compute/cuda/repos/ubuntu1804/x86_64  Release\n",
            "Hit:8 https://developer.download.nvidia.com/compute/machine-learning/repos/ubuntu1804/x86_64  Release\n",
            "Get:9 http://archive.ubuntu.com/ubuntu bionic-updates InRelease [88.7 kB]\n",
            "Hit:10 http://ppa.launchpad.net/marutter/c2d4u3.5/ubuntu bionic InRelease\n",
            "Get:11 http://archive.ubuntu.com/ubuntu bionic-backports InRelease [74.6 kB]\n",
            "Get:14 http://security.ubuntu.com/ubuntu bionic-security/main amd64 Packages [628 kB]\n",
            "Get:15 http://archive.ubuntu.com/ubuntu bionic-updates/main amd64 Packages [926 kB]\n",
            "Get:16 http://security.ubuntu.com/ubuntu bionic-security/universe amd64 Packages [760 kB]\n",
            "Get:17 http://archive.ubuntu.com/ubuntu bionic-updates/universe amd64 Packages [1,278 kB]\n",
            "Fetched 3,848 kB in 3s (1,516 kB/s)\n",
            "Reading package lists... Done\n",
            "Building dependency tree       \n",
            "Reading state information... Done\n",
            "12 packages can be upgraded. Run 'apt list --upgradable' to see them.\n"
          ],
          "name": "stdout"
        }
      ]
    },
    {
      "cell_type": "code",
      "metadata": {
        "id": "qQUbXIKYrLWA",
        "colab_type": "code",
        "colab": {}
      },
      "source": [
        ""
      ],
      "execution_count": 0,
      "outputs": []
    }
  ]
}