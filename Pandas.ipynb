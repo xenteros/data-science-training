{
 "cells": [
  {
   "cell_type": "markdown",
   "metadata": {},
   "source": [
    "# Pandas\n",
    "\n",
    "`Pandas` to kolejna biblioteka niezbędna do analizy danych w Pythonie. Dostarcza wydajne struktury danych, dzięki którym praca z danymi tabularycznymi staje się prosta i ituicyjna. Celem twórców jest utrzymanie statusu biblioteki niezbędnej do codziennych analiz oraz zdobycie fotela lidera w kategorii najpotężniejszego narzędzia open-source do analizy danych w jakimkolwiek języku programowania. Obecnie, projekt wciąż prężnie się rozwija i jego znajomość jest niezbędna dla każdego danologa.\n",
    "\n",
    "`Pandas` będzie dobrym wyborem do następujących zastosowań:\n",
    "* Dane tabularyczne (kolumny jak w SQLu lub Excelu)\n",
    "* Dane reprezentujące szeregi czasowe\n",
    "* Macierze,\n",
    "* Wyniki pomiarów i statystyk.\n",
    "\n",
    "Dwa główne typy danych w Pythonie to `Series` (jednowymiarowa kolumna) i `DataFrame` (dwuwymiarowa tabela). `Pandas` wykorzystuje w obliczeniach bibliotekę `NumPy` oraz jest przygotowany do integrowania się z wieloma bibliotekami zewnętrznymi.\n",
    "\n",
    "Mocnymi stronami `Pandas` są między innymi:\n",
    "* Prosta obsługa brakujących wartości (`NaN`),\n",
    "* Możliwość modyfikowania rozmiaru `DataFrame`'a - możemy dodawać i usuwać kolumny i wiersze,\n",
    "* Automatyczne wyrównywanie danych w obliczeniach (jak w `NumPy`),\n",
    "* Metoda `groupBy` działająca analogicznie jak w SQLu,\n",
    "* Łatwo stworzyć `DataFrame` na podstawie innego obiektu,\n",
    "* Cięcie, indeksowanie i tworzenie podzbiorów,\n",
    "* Łączenie (`join` i `merge`) zbiorów.\n",
    "\n",
    "***\n",
    "# Hello World"
   ]
  },
  {
   "cell_type": "code",
   "execution_count": null,
   "metadata": {},
   "outputs": [],
   "source": [
    "import numpy as np\n",
    "import pandas as pd\n",
    "\n",
    "pd.__version__"
   ]
  },
  {
   "cell_type": "code",
   "execution_count": null,
   "metadata": {},
   "outputs": [],
   "source": [
    "s = pd.Series([1,3,4,np.nan, 6, 8])\n",
    "print(s)\n",
    "dates = pd.date_range('20130101', periods=6)\n",
    "print(dates)\n",
    "\n",
    "df = pd.DataFrame(np.random.randn(6, 4), index=dates, columns=list('ABCD'))\n",
    "print(df)\n",
    "\n",
    "df2 = pd.DataFrame({'A': 1.,\n",
    "                    'B': pd.Timestamp('20130102'),\n",
    "                    'C': pd.Series(1, index=list(range(4)), dtype='float32'),\n",
    "                    'D': np.array([3] * 4, dtype='int32'),\n",
    "                    'E': pd.Categorical([\"test\", \"train\", \"test\", \"train\"]),\n",
    "                    'F': 'foo'})\n",
    "df2.dtypes"
   ]
  },
  {
   "cell_type": "markdown",
   "metadata": {},
   "source": [
    "## Przeglądanie danych\n",
    "Do przeglądania `DataFrame` służą między innymi następujące pola i metody."
   ]
  },
  {
   "cell_type": "code",
   "execution_count": null,
   "metadata": {},
   "outputs": [],
   "source": [
    "df.head()\n",
    "df.tail(3)\n",
    "df.index\n",
    "df.columns"
   ]
  },
  {
   "cell_type": "markdown",
   "metadata": {},
   "source": [
    "## DataFrame.to_numpy()\n",
    "`DataFrame.to_numpy()` jest metodą, która zamienia `DataFrame` na tablicę. Problemem jest to, że o ile `DataFrame` może przechowywać dane różnego typu, o tyle `ndarray` ma jeden `dtype` na całą tablicę. W związku z tym, może się okazać, że zajdzie konieczność castowania wszystkich obiektów na `object`.\n",
    "\n",
    "`df.to_numpy()` będzie operacją błyskawiczną, natomiast `df2.to_numpy()` będzie już relatywnie wolne."
   ]
  },
  {
   "cell_type": "code",
   "execution_count": null,
   "metadata": {},
   "outputs": [],
   "source": [
    "%timeit df.to_numpy()\n",
    "%timeit df2.to_numpy()"
   ]
  },
  {
   "cell_type": "markdown",
   "metadata": {},
   "source": [
    "Dostępnych jest również trochę funkcji użytkowych (util)."
   ]
  },
  {
   "cell_type": "code",
   "execution_count": null,
   "metadata": {},
   "outputs": [],
   "source": [
    "df.describe()\n",
    "df.T\n",
    "df.sort_index(axis=1, ascending=False)\n",
    "df.sort_values(by='B')"
   ]
  },
  {
   "cell_type": "markdown",
   "metadata": {},
   "source": [
    "## Pobieranie danych (select)"
   ]
  },
  {
   "cell_type": "code",
   "execution_count": null,
   "metadata": {},
   "outputs": [],
   "source": [
    "df['A']\n",
    "df[0:3]\n",
    "df['20130102':'20130104']\n",
    "df.loc[dates[0]]\n",
    "df.loc[:, ['A', 'B']]\n",
    "df.loc['20130102':'20130104', ['A', 'B']]\n",
    "df.loc['20130102', ['A', 'B']]\n",
    "df.loc[dates[0], 'A']\n",
    "df.at[dates[0], 'A']\n",
    "df.iloc[3]\n",
    "df.iloc[3:5, 0:2]\n",
    "df[df.A > 0]\n",
    "df[df > 0]"
   ]
  },
  {
   "cell_type": "code",
   "execution_count": null,
   "metadata": {},
   "outputs": [],
   "source": [
    "df2 = df.copy()\n",
    "df2['E'] = ['one', 'one', 'two', 'three', 'four', 'three']\n",
    "df2[df2['E'].isin(['two', 'four'])]"
   ]
  },
  {
   "cell_type": "code",
   "execution_count": null,
   "metadata": {},
   "outputs": [],
   "source": [
    "s1 = pd.Series([1, 2, 3, 4, 5, 6], index=pd.date_range('20130102', periods=6))\n",
    "df['F'] = s1\n",
    "\n",
    "df.loc[:, 'D'] = np.array([5] * len(df))\n",
    "\n",
    "df2[df2 > 0] = -df2"
   ]
  },
  {
   "cell_type": "markdown",
   "metadata": {},
   "source": [
    "## Praca z brakującymi danymi"
   ]
  },
  {
   "cell_type": "code",
   "execution_count": null,
   "metadata": {},
   "outputs": [],
   "source": [
    "df1 = df.reindex(index=dates[0:4], columns=list(df.columns) + ['E'])\n",
    "df1.loc[dates[0]:dates[1], 'E'] = 1\n",
    "\n",
    "\n",
    "df1.dropna(how='any')\n",
    "df1.fillna(value=5)\n",
    "pd.isna(df1)"
   ]
  },
  {
   "cell_type": "markdown",
   "metadata": {},
   "source": [
    "## Operacje"
   ]
  },
  {
   "cell_type": "code",
   "execution_count": null,
   "metadata": {},
   "outputs": [],
   "source": [
    "df.mean()\n",
    "df.mean(1)\n",
    "df.apply(np.cumsum)\n",
    "df.apply(lambda x: x.max() - x.min())"
   ]
  },
  {
   "cell_type": "markdown",
   "metadata": {},
   "source": [
    "## Łączenie i grupowanie `DataFrame`"
   ]
  },
  {
   "cell_type": "code",
   "execution_count": null,
   "metadata": {},
   "outputs": [],
   "source": [
    "df = pd.DataFrame(np.random.randn(10, 4))\n",
    "pieces = [df[:3], df[3:7], df[7:]]\n",
    "pd.concat(pieces)\n",
    "\n",
    "left = pd.DataFrame({'key': ['foo', 'foo'], 'lval': [1, 2]})\n",
    "right = pd.DataFrame({'key': ['foo', 'foo'], 'rval': [4, 5]})\n",
    "merged = pd.merge(left, right, on='key')\n",
    "\n",
    "df = pd.DataFrame(np.random.randn(8, 4), columns=['A', 'B', 'C', 'D'])\n",
    "s = df.iloc[3]\n",
    "df.append(s, ignore_index=True)\n",
    "\n",
    "df = pd.DataFrame({'A': ['foo', 'bar', 'foo', 'bar',\n",
    "                         'foo', 'bar', 'foo', 'foo'],\n",
    "                   'B': ['one', 'one', 'two', 'three',\n",
    "                         'two', 'two', 'one', 'three'],\n",
    "                   'C': np.random.randn(8),\n",
    "                   'D': np.random.randn(8)})\n",
    "\n",
    "df.groupby('A').sum()\n",
    "\n",
    "df.groupby(['A', 'B']).sum()"
   ]
  },
  {
   "cell_type": "markdown",
   "metadata": {},
   "source": [
    "## Cechy kategoryczne"
   ]
  },
  {
   "cell_type": "code",
   "execution_count": null,
   "metadata": {},
   "outputs": [],
   "source": [
    "df = pd.DataFrame({\"id\": [1, 2, 3, 4, 5, 6], \"raw_grade\": ['a', 'b', 'b', 'a', 'a', 'e']})\n",
    "df[\"grade\"] = df[\"raw_grade\"].astype(\"category\")\n",
    "\n",
    "df[\"grade\"].cat.categories = [\"very good\", \"good\", \"very bad\"]\n",
    "\n",
    "df.sort_values(by=\"grade\")\n",
    "df.groupby(\"grade\").size()"
   ]
  },
  {
   "cell_type": "markdown",
   "metadata": {},
   "source": [
    "# Wizualizacje"
   ]
  },
  {
   "cell_type": "code",
   "execution_count": null,
   "metadata": {},
   "outputs": [],
   "source": [
    "%matplotlib inline\n",
    "ts = pd.Series(np.random.randn(1000), index=pd.date_range('1/1/2000', periods=1000))\n",
    "ts = ts.cumsum()\n",
    "ts.plot()"
   ]
  },
  {
   "cell_type": "code",
   "execution_count": null,
   "metadata": {},
   "outputs": [],
   "source": [
    "df = pd.DataFrame(np.random.randn(1000, 4), index=ts.index, columns=['A', 'B', 'C', 'D'])\n",
    "df = df.cumsum()\n",
    "df.plot()"
   ]
  },
  {
   "cell_type": "markdown",
   "metadata": {},
   "source": [
    "## Wczytywanie `DataFrame` z pliku i zapis do pliku"
   ]
  },
  {
   "cell_type": "code",
   "execution_count": null,
   "metadata": {},
   "outputs": [],
   "source": [
    "df.to_csv('foo.csv')\n",
    "\n",
    "pd.read_csv('foo.csv')\n",
    "df.to_excel('foo.xlsx', sheet_name='Sheet1')"
   ]
  },
  {
   "cell_type": "markdown",
   "metadata": {},
   "source": [
    "***\n",
    "# Zadania\n",
    "\n",
    "### Zadanie 1\n",
    "Stwórz `DataFrame` zawierający zbiór Iris i zmień nazwy kolumn w `DataFrame`.\n",
    "### Zadanie 2\n",
    "Policz ile jest wartości poniżej i powyżej średniej w każdej kolumnie.\n",
    "### Zadanie 3\n",
    "Usuń `5%` wartości z `df` (ustaw je na `np.nan`), a następnie zastąp wszystkie brakujące wartości średnią dla ich kolumny.\n",
    "### Zadanie 4\n",
    "Stwórz nowy `DataFrame`, który będzie się składać z jednej kolumny (gatunek irysa).\n",
    "### Zadanie 5\n",
    "Podziel `DataFrame` na zbiór testowy i treningowy w stosunku 1:10 i 1:5\n",
    "### Zadanie 6\n",
    "Znajdź indeks wiersza z 3 największą wartością w drugiej kolumnie.\n",
    "### Zadanie 7\n",
    "Zamień kolumnę target na one-hot encoding.\n",
    "### Zadanie 8\n",
    "Znormalizuj wartości w kolumnach.\n",
    "### Zadanie 9\n",
    "Policz częstotliwość wystąpień poszczególnych wartości w `df`.\n",
    "### Zadanie 10\n",
    "Stwórz `DataFrame`, z następującymi kolumnami: `imię_i_nazwisko`, `data_urodzenia`, a następnie stwórz na jej podstawie `DataFrame` z kolumnami: `imię`, `nazwisko`, `rok_urodzenia`, `miesiąc_urodzenia`, `dzień_urodzenia`. Możesz pracować na danych z Titanica."
   ]
  }
 ],
 "metadata": {
  "kernelspec": {
   "display_name": "Python 3",
   "language": "python",
   "name": "python3"
  },
  "language_info": {
   "codemirror_mode": {
    "name": "ipython",
    "version": 3
   },
   "file_extension": ".py",
   "mimetype": "text/x-python",
   "name": "python",
   "nbconvert_exporter": "python",
   "pygments_lexer": "ipython3",
   "version": "3.7.3"
  }
 },
 "nbformat": 4,
 "nbformat_minor": 4
}
