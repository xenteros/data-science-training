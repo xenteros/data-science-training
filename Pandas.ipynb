{
 "cells": [
  {
   "cell_type": "markdown",
   "metadata": {},
   "source": [
    "# Pandas\n",
    "\n",
    "`Pandas` to kolejna biblioteka niezbędna do analizy danych w Pythonie. Dostarcza wydajne struktury danych, dzięki którym praca z danymi tabularycznymi staje się prosta i ituicyjna. Celem twórców jest utrzymanie statusu biblioteki niezbędnej do codziennych analiz oraz zdobycie fotela lidera w kategorii najpotężniejszego narzędzia open-source do analizy danych w jakimkolwiek języku programowania. Obecnie, projekt wciąż prężnie się rozwija i jego znajomość jest niezbędna dla każdego danologa.\n",
    "\n",
    "`Pandas` będzie dobrym wyborem do następujących zastosowań:\n",
    "* Dane tabularyczne (kolumny jak w SQLu lub Excelu)\n",
    "* Dane reprezentujące szeregi czasowe\n",
    "* Macierze,\n",
    "* Wyniki pomiarów i statystyk.\n",
    "\n",
    "Dwa główne typy danych w Pythonie to `Series` (jednowymiarowa kolumna) i `DataFrame` (dwuwymiarowa tabela). `Pandas` wykorzystuje w obliczeniach bibliotekę `NumPy` oraz jest przygotowany do integrowania się z wieloma bibliotekami zewnętrznymi.\n",
    "\n",
    "Mocnymi stronami `Pandas` są między innymi:\n",
    "* Prosta obsługa brakujących wartości (`NaN`),\n",
    "* Możliwość modyfikowania rozmiaru `DataFrame`'a - możemy dodawać i usuwać kolumny i wiersze,\n",
    "* Automatyczne wyrównywanie danych w obliczeniach (jak w `NumPy`),\n",
    "* Metoda `groupBy` działająca analogicznie jak w SQLu,\n",
    "* Łatwo stworzyć `DataFrame` na podstawie innego obiektu,\n",
    "* Cięcie, indeksowanie i tworzenie podzbiorów,\n",
    "* Łączenie (`join` i `merge`) zbiorów.\n",
    "\n",
    "***\n",
    "# Hello World"
   ]
  },
  {
   "cell_type": "code",
   "execution_count": null,
   "metadata": {},
   "outputs": [],
   "source": [
    "import numpy as np\n",
    "import pandas as pd\n",
    "\n",
    "pd.__version__"
   ]
  },
  {
   "cell_type": "code",
   "execution_count": null,
   "metadata": {},
   "outputs": [],
   "source": [
    "s = pd.Series([1,3,4,np.nan, 6, 8])\n",
    "print(s)\n",
    "dates = pd.date_range('20130101', periods=6)\n",
    "print(dates)\n",
    "\n",
    "df = pd.DataFrame(np.random.randn(6, 4), index=dates, columns=list('ABCD'))\n",
    "print(df)"
   ]
  }
 ],
 "metadata": {
  "kernelspec": {
   "display_name": "Python 3",
   "language": "python",
   "name": "python3"
  },
  "language_info": {
   "codemirror_mode": {
    "name": "ipython",
    "version": 3
   },
   "file_extension": ".py",
   "mimetype": "text/x-python",
   "name": "python",
   "nbconvert_exporter": "python",
   "pygments_lexer": "ipython3",
   "version": "3.7.3"
  }
 },
 "nbformat": 4,
 "nbformat_minor": 4
}
