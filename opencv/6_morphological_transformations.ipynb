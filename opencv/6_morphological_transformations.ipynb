{
 "cells": [
  {
   "cell_type": "code",
   "execution_count": 1,
   "metadata": {},
   "outputs": [],
   "source": [
    "import cv2\n",
    "import numpy as np\n",
    "import matplotlib.pyplot as plt\n",
    "%matplotlib inline"
   ]
  },
  {
   "cell_type": "markdown",
   "metadata": {},
   "source": [
    "# Teoria\n",
    "\n",
    "Transformacje morfologiczne to kilka prostych operacji opartych na kształcie obrazu. \n",
    "\n",
    "Jest ona zazwyczaj wykonywana na obrazach binarnych. Wymaga dwóch wejść, jedno jest naszym oryginalnym obrazem, drugie nazywane jest elementem strukturyzującym lub jądrem, które decyduje o charakterze operacji. \n",
    "\n",
    "Dwa podstawowe operatory morfologiczne to Erozja i Rozszerzenie. Wówczas w grę wchodzi również jego wariant formy, jak otwieranie, zamykanie, gradient itp. Zobaczymy je pojedynczo za pomocą następującego obrazu:"
   ]
  },
  {
   "cell_type": "code",
   "execution_count": 2,
   "metadata": {},
   "outputs": [
    {
     "data": {
      "text/plain": [
       "<matplotlib.image.AxesImage at 0x11d52ef60>"
      ]
     },
     "execution_count": 2,
     "metadata": {},
     "output_type": "execute_result"
    },
    {
     "data": {
      "image/png": "[encoded data removed]",
      "text/plain": [
       "<Figure size 432x288 with 1 Axes>"
      ]
     },
     "metadata": {},
     "output_type": "display_data"
    }
   ],
   "source": [
    "image = cv2.imread('images/morpho.png')\n",
    "plt.imshow(image)"
   ]
  },
  {
   "cell_type": "markdown",
   "metadata": {},
   "source": [
    "## 1. Erozja\n",
    "\n",
    "Podstawowa idea erozji jest taka sama jak erozja gleby, eroduje granice obiektu na pierwszym planie (zawsze staraj się zachować pierwszy plan w kolorze białym). Więc co to robi? Jądro przesuwa się przez obraz (jak w konwolucji 2D). Pixel w oryginalnym obrazie (albo 1 albo 0) będzie uważany za 1 tylko wtedy, gdy wszystkie piksele pod jądrem są 1, w przeciwnym razie jest on erodowany (wykonany do zera).\n",
    "\n",
    "Więc co się dzieje, to fakt, że wszystkie piksele w pobliżu granicy zostaną odrzucone w zależności od wielkości jądra. Tak więc grubość lub rozmiar obiektu na pierwszym planie zmniejsza się lub po prostu biały obszar zmniejsza się w obrazie. Jest to przydatne do usuwania małych białych szumów."
   ]
  },
  {
   "cell_type": "code",
   "execution_count": 4,
   "metadata": {},
   "outputs": [
    {
     "data": {
      "text/plain": [
       "<matplotlib.image.AxesImage at 0x11d6c23c8>"
      ]
     },
     "execution_count": 4,
     "metadata": {},
     "output_type": "execute_result"
    },
    {
     "data": {
      "image/png": "[encoded data removed]",
      "text/plain": [
       "<Figure size 432x288 with 1 Axes>"
      ]
     },
     "metadata": {},
     "output_type": "display_data"
    }
   ],
   "source": [
    "img = cv2.imread('images/morpho.png', 0)\n",
    "kernel = np.ones((5, 5), np.uint8)\n",
    "erosion = cv2.erode(img, kernel, iterations = 1)\n",
    "plt.imshow(erosion, cmap='gray')"
   ]
  },
  {
   "cell_type": "markdown",
   "metadata": {},
   "source": [
    "## 2. Rozszerzanie\n",
    "\n",
    "To przeciwieństwo erozji. Tutaj element pikselowy to '1', jeśli co najmniej jeden piksel pod jądrem to '1'. W ten sposób zwiększa się obszar bieli na obrazie lub zwiększa się rozmiar pierwszego planu. Zazwyczaj, w takich przypadkach jak usuwanie hałasu, po erozji następuje rozszerzenie. Ponieważ erozja usuwa białe szumy, ale także kurczy nasz obiekt. Tak więc rozszerzamy go. Ponieważ hałas zniknął, nie wróci one już do nas, ale powierzchnia naszego obiektu wzrasta."
   ]
  },
  {
   "cell_type": "code",
   "execution_count": 8,
   "metadata": {},
   "outputs": [
    {
     "data": {
      "text/plain": [
       "<matplotlib.image.AxesImage at 0x11d90b8d0>"
      ]
     },
     "execution_count": 8,
     "metadata": {},
     "output_type": "execute_result"
    },
    {
     "data": {
      "image/png": "[encoded data removed]",
      "text/plain": [
       "<Figure size 432x288 with 1 Axes>"
      ]
     },
     "metadata": {},
     "output_type": "display_data"
    }
   ],
   "source": [
    "img = cv2.imread('images/morpho.png', 0)\n",
    "kernel = np.ones((5, 5), np.uint8)\n",
    "dilation = cv2.dilate(img,kernel,iterations = 1)\n",
    "plt.imshow(dilation, cmap='gray')\n"
   ]
  },
  {
   "cell_type": "markdown",
   "metadata": {},
   "source": [
    "## Erozja i rozszerzanie na jednym obrazie"
   ]
  },
  {
   "cell_type": "code",
   "execution_count": 9,
   "metadata": {},
   "outputs": [
    {
     "data": {
      "text/plain": [
       "<matplotlib.image.AxesImage at 0x11d9f5c18>"
      ]
     },
     "execution_count": 9,
     "metadata": {},
     "output_type": "execute_result"
    },
    {
     "data": {
      "image/png": "[encoded data removed]",
      "text/plain": [
       "<Figure size 432x288 with 1 Axes>"
      ]
     },
     "metadata": {},
     "output_type": "display_data"
    }
   ],
   "source": [
    "img = cv2.imread('images/morpho.png', 0)\n",
    "kernel = np.ones((5, 5), np.uint8)\n",
    "image = cv2.erode(img, kernel, iterations = 1)\n",
    "image = cv2.dilate(image, kernel, iterations = 1)\n",
    "plt.imshow(image, cmap='gray')"
   ]
  },
  {
   "cell_type": "code",
   "execution_count": null,
   "metadata": {},
   "outputs": [],
   "source": []
  }
 ],
 "metadata": {
  "kernelspec": {
   "display_name": "data-science",
   "language": "python",
   "name": "data-science"
  },
  "language_info": {
   "codemirror_mode": {
    "name": "ipython",
    "version": 3
   },
   "file_extension": ".py",
   "mimetype": "text/x-python",
   "name": "python",
   "nbconvert_exporter": "python",
   "pygments_lexer": "ipython3",
   "version": "3.6.2"
  }
 },
 "nbformat": 4,
 "nbformat_minor": 2
}
