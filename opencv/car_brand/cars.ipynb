{
 "cells": [
  {
   "cell_type": "code",
   "execution_count": null,
   "metadata": {},
   "outputs": [],
   "source": [
    "import cv2\n",
    "import numpy as np\n",
    "import matplotlib.pyplot as plt\n",
    "%matplotlib inline\n",
    "plt.rcParams['figure.figsize'] = [8, 8]\n",
    "import os\n",
    "from skimage import feature\n",
    "from skimage import exposure\n",
    "\n",
    "from sklearn.neighbors import KNeighborsClassifier\n",
    "from sklearn.utils import shuffle"
   ]
  },
  {
   "cell_type": "code",
   "execution_count": null,
   "metadata": {},
   "outputs": [],
   "source": [
    "# for root, dirs, files in os.walk(\"images\"):\n",
    "#     path = root.split(os.sep)\n",
    "# #     print((len(path) - 1) * '---', os.path.basename(root))\n",
    "#     for file in files:\n",
    "# #         print(len(path) * '---', file)\n",
    "# #         image = cv2.imread(os.path.join())\n",
    "#         image = cv2.imread(os.path.join(root, file))\n",
    "#         image = cv2.resize(image, (200, 200))\n",
    "#         image = cv2.cvtColor(image, cv2.COLOR_BGR2GRAY)\n",
    "#         cv2.imwrite(os.path.join(root, file), image)"
   ]
  },
  {
   "cell_type": "markdown",
   "metadata": {},
   "source": [
    "# 0. Przykłady działania HOG"
   ]
  },
  {
   "cell_type": "code",
   "execution_count": null,
   "metadata": {},
   "outputs": [],
   "source": [
    "def hog_descriptor(image, orientations, pixels_per_cell, cells_per_block):\n",
    "    return feature.hog(image, orientations, pixels_per_cell, cells_per_block, transform_sqrt=True, block_norm=\"L1\", visualize=True)\n",
    "\n",
    "orientations=9\n",
    "pixels_per_cell=(2, 2)\n",
    "cells_per_block=(3, 3)\n",
    "\n",
    "image = cv2.imread('images/bmw/1.png')\n",
    "\n",
    "(H, hogImage) = hog_descriptor(image, orientations, pixels_per_cell, cells_per_block)\n",
    "\n",
    "hogImage = exposure.rescale_intensity(hogImage, out_range=(0, 255))\n",
    "hogImage = hogImage.astype(\"uint8\")\n",
    "plt.imshow(hogImage, cmap='gray')"
   ]
  },
  {
   "cell_type": "code",
   "execution_count": null,
   "metadata": {},
   "outputs": [],
   "source": [
    "image = cv2.imread('images/ford/1.png')\n",
    "\n",
    "(H, hogImage) = hog_descriptor(image, orientations, pixels_per_cell, cells_per_block)\n",
    "\n",
    "\n",
    "hogImage = exposure.rescale_intensity(hogImage, out_range=(0, 255))\n",
    "hogImage = hogImage.astype(\"uint8\")\n",
    "print(len(H))\n",
    "plt.imshow(hogImage, cmap='gray')"
   ]
  },
  {
   "cell_type": "code",
   "execution_count": null,
   "metadata": {},
   "outputs": [],
   "source": [
    "image = cv2.imread('images/ferrari/1.jpg')\n",
    "\n",
    "(H, hogImage) = hog_descriptor(image, orientations, pixels_per_cell, cells_per_block)\n",
    "\n",
    "\n",
    "hogImage = exposure.rescale_intensity(hogImage, out_range=(0, 255))\n",
    "hogImage = hogImage.astype(\"uint8\")\n",
    "plt.imshow(hogImage, cmap='gray')"
   ]
  },
  {
   "cell_type": "code",
   "execution_count": null,
   "metadata": {},
   "outputs": [],
   "source": []
  },
  {
   "cell_type": "markdown",
   "metadata": {},
   "source": [
    "# 1. Wczytaj zbiór danych"
   ]
  },
  {
   "cell_type": "code",
   "execution_count": null,
   "metadata": {},
   "outputs": [],
   "source": [
    "mapping = {}\n",
    "images = []\n",
    "labels = []\n",
    "\n",
    "for i, brand in enumerate(os.listdir('images')):\n",
    "    mapping[i] = brand\n",
    "    brand_directory = os.path.join('images', brand)\n",
    "    for filename in os.listdir(brand_directory):\n",
    "        image = cv2.imread(os.path.join(brand_directory, filename))\n",
    "        image = cv2.cvtColor(image, cv2.COLOR_BGR2GRAY)\n",
    "        images.append(image)\n",
    "        labels.append(i)\n",
    "\n",
    "print(labels)\n",
    "print(mapping)"
   ]
  },
  {
   "cell_type": "markdown",
   "metadata": {},
   "source": [
    "# 2. Wykonaj ekstrakcję cech za pomocą HOG"
   ]
  },
  {
   "cell_type": "code",
   "execution_count": null,
   "metadata": {},
   "outputs": [],
   "source": []
  },
  {
   "cell_type": "code",
   "execution_count": null,
   "metadata": {},
   "outputs": [],
   "source": [
    "orientations=9\n",
    "pixels_per_cell=(3, 3)\n",
    "cells_per_block=(3, 3)\n",
    "\n",
    "images, labels = shuffle(images, labels)\n",
    "features = [hog_descriptor(image, orientations, pixels_per_cell, cells_per_block)[0] for image in images]"
   ]
  },
  {
   "cell_type": "code",
   "execution_count": null,
   "metadata": {},
   "outputs": [],
   "source": [
    "len(features[1])"
   ]
  },
  {
   "cell_type": "markdown",
   "metadata": {},
   "source": [
    "# 3. Trenuj klasyfikator KNN"
   ]
  },
  {
   "cell_type": "code",
   "execution_count": null,
   "metadata": {},
   "outputs": [],
   "source": [
    "model = KNeighborsClassifier(n_neighbors=3)\n",
    "model.fit(features, labels)"
   ]
  },
  {
   "cell_type": "markdown",
   "metadata": {},
   "source": [
    "# 4. Testowanie skuteczności"
   ]
  },
  {
   "cell_type": "code",
   "execution_count": null,
   "metadata": {},
   "outputs": [],
   "source": [
    "for filename in os.listdir('test_images'):\n",
    "    image = cv2.imread(os.path.join('test_images', filename))\n",
    "    image = cv2.cvtColor(image, cv2.COLOR_BGR2RGB)\n",
    "    image = cv2.resize(image, (300, 300))\n",
    "    rescaled_image = cv2.resize(image, (200, 200))\n",
    "    \n",
    "    gray_image = cv2.cvtColor(rescaled_image, cv2.COLOR_BGR2GRAY)\n",
    "    H = hog_descriptor(gray_image, orientations, pixels_per_cell, cells_per_block)[0]\n",
    "    result = model.predict(H.reshape(1, -1))[0]\n",
    "    \n",
    "    cv2.putText(image, mapping[result], (10, 35), cv2.FONT_HERSHEY_SIMPLEX, 1.0, (0, 255, 0), 2)\n",
    "    plt.imshow(image)\n",
    "    plt.show()"
   ]
  },
  {
   "cell_type": "code",
   "execution_count": null,
   "metadata": {},
   "outputs": [],
   "source": []
  },
  {
   "cell_type": "code",
   "execution_count": null,
   "metadata": {},
   "outputs": [],
   "source": []
  },
  {
   "cell_type": "code",
   "execution_count": null,
   "metadata": {},
   "outputs": [],
   "source": []
  },
  {
   "cell_type": "code",
   "execution_count": null,
   "metadata": {},
   "outputs": [],
   "source": []
  },
  {
   "cell_type": "code",
   "execution_count": null,
   "metadata": {},
   "outputs": [],
   "source": []
  }
 ],
 "metadata": {
  "kernelspec": {
   "display_name": "gpu",
   "language": "python",
   "name": "gpu"
  },
  "language_info": {
   "codemirror_mode": {
    "name": "ipython",
    "version": 3
   },
   "file_extension": ".py",
   "mimetype": "text/x-python",
   "name": "python",
   "nbconvert_exporter": "python",
   "pygments_lexer": "ipython3",
   "version": "3.7.2"
  }
 },
 "nbformat": 4,
 "nbformat_minor": 2
}
