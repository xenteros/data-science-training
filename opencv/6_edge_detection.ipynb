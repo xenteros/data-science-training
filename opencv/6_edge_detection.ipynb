{
 "cells": [
  {
   "cell_type": "code",
   "execution_count": 2,
   "metadata": {},
   "outputs": [],
   "source": [
    "import cv2\n",
    "import numpy as np\n",
    "import matplotlib.pyplot as plt\n",
    "%matplotlib inline\n",
    "plt.rcParams['figure.figsize'] = [15, 10]"
   ]
  },
  {
   "cell_type": "markdown",
   "metadata": {},
   "source": [
    "## W tym zszycie dowiemy się o:\n",
    "\n",
    "- Koncepcja wykrywania krawędzi Canny'ego\n",
    "- Funkcje OpenCV do tego : cv2.Canny()\n",
    "\n",
    "## Teoria\n",
    "\n",
    "Canny Edge Detection jest popularnym algorytmem wykrywania krawędzi. Został on opracowany przez Johna F. Canny'ego w 1986 roku. Jest to algorytm wieloetapowy i będziemy przechodzić przez każdy etap.\n",
    "\n",
    "#### 1. Redukcja hałasu\n",
    "Ponieważ wykrywanie krawędzi jest podatne na zakłócenia w obrazie, pierwszym krokiem jest usunięcie zakłóceń w obrazie za pomocą filtra 5x5 Gaussian. Widzieliśmy to już w poprzednich rozdziałach.\n",
    "\n",
    "#### 2. Znajdowanie gradientu intensywności obrazu\n",
    "Wygładzony obraz jest następnie filtrowany jądrem Sobla w kierunku poziomym i pionowym, aby uzyskać najpierw pochodną w kierunku poziomym (G_x) i pionowym (G_y). Z tych dwóch obrazów, możemy znaleźć gradient krawędzi i kierunek dla każdego piksela w następujący sposób:\n",
    "\n",
    "$$$$\n",
    "\\begin{array}{r}{\\text {Edge-Gradient}(G)=\\sqrt{G_{x}^{2}+G_{y}^{2}}} \\\\ {\\text {Angle}(\\theta)=\\tan ^{-1}\\left(\\frac{G_{y}}{G_{x}}\\right)}\\end{array}\n",
    "$$$$"
   ]
  },
  {
   "cell_type": "code",
   "execution_count": null,
   "metadata": {},
   "outputs": [],
   "source": []
  }
 ],
 "metadata": {
  "kernelspec": {
   "display_name": "data-science",
   "language": "python",
   "name": "data-science"
  },
  "language_info": {
   "codemirror_mode": {
    "name": "ipython",
    "version": 3
   },
   "file_extension": ".py",
   "mimetype": "text/x-python",
   "name": "python",
   "nbconvert_exporter": "python",
   "pygments_lexer": "ipython3",
   "version": "3.6.2"
  }
 },
 "nbformat": 4,
 "nbformat_minor": 2
}
