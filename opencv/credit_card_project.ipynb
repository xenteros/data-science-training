{
 "cells": [
  {
   "cell_type": "code",
   "execution_count": null,
   "metadata": {},
   "outputs": [],
   "source": [
    "import cv2\n",
    "import matplotlib.pyplot as plt\n",
    "%matplotlib inline\n",
    "import numpy as np"
   ]
  },
  {
   "cell_type": "markdown",
   "metadata": {},
   "source": [
    "Projekt do rozpoznawania automatycznego numerów kart kredytowych z obrazu. Cyfry będziemy dopasowywać do wzorców i porównywać do której cyfry znalezionej jest najbliżej."
   ]
  },
  {
   "cell_type": "markdown",
   "metadata": {},
   "source": [
    "# 1. Przetwarzanie wzorców cyfr"
   ]
  },
  {
   "cell_type": "code",
   "execution_count": null,
   "metadata": {},
   "outputs": [],
   "source": [
    "font_path = 'images/ocr_a.png'\n",
    "font_image = cv2.imread(font_path)\n",
    "plt.imshow(font_image, cmap='gray')"
   ]
  },
  {
   "cell_type": "markdown",
   "metadata": {},
   "source": [
    "Musimy w jakiś sposób podzielić ten obraz na cyfry. Wykorzystamy do tego funkcję __findContours__. Jednakże działa ona poprawnie dla białych kształtów na czarnym tle. Dlatego sprowadźmy po pierwsze obraz do skali szarości a następnie wykorzystajmy poznaną już metodę progowania binarnego odwróconego w celu pozostawienia pikseli tylko o wartościach 0 lub 255."
   ]
  },
  {
   "cell_type": "code",
   "execution_count": null,
   "metadata": {},
   "outputs": [],
   "source": [
    "gray_font_image = cv2.cvtColor(font_image, cv2.COLOR_BGR2GRAY)\n",
    "binary_font_image = cv2.threshold(gray_font_image, 10, 255, cv2.THRESH_BINARY_INV)[1]\n",
    "plt.imshow(binary_font_image, cmap='gray')"
   ]
  },
  {
   "cell_type": "code",
   "execution_count": null,
   "metadata": {},
   "outputs": [],
   "source": [
    "contours = cv2.findContours(binary_font_image, cv2.RETR_EXTERNAL, cv2.CHAIN_APPROX_SIMPLE)"
   ]
  },
  {
   "cell_type": "code",
   "execution_count": null,
   "metadata": {},
   "outputs": [],
   "source": [
    "# W zależności od wersji opencv, różnice w v2.4, v3.0, v4-alpha, v4-beta\n",
    "if len(contours) == 2:\n",
    "    contours = contours[0]\n",
    "elif len(contours) == 3:\n",
    "    contours = contours[1]"
   ]
  },
  {
   "cell_type": "code",
   "execution_count": null,
   "metadata": {},
   "outputs": [],
   "source": [
    "print(len(contours))"
   ]
  },
  {
   "cell_type": "markdown",
   "metadata": {},
   "source": [
    "Znaleziono 10 konturów, dokładnie tyle ile jest cyfr na naszym obrazie. Należy je teraz posostować od lewej do prawej. Kontur to dosłownie zbiór pikseli tworzące obramowanie. Za pomocą funkcji __boundingRect__ możemy uzyskać reprezentację za pomocą czterech liczb przedstawiające lewy górny róg każdej ramki a także jej szerokość i wysokość."
   ]
  },
  {
   "cell_type": "code",
   "execution_count": null,
   "metadata": {},
   "outputs": [],
   "source": [
    "bounding_boxes = [cv2.boundingRect(contour) for contour in contours]\n",
    "bounding_boxes = sorted(bounding_boxes, key=lambda box: box[0])\n",
    "\n",
    "max_width = max([box[2] for box in bounding_boxes])\n",
    "max_height = max([box[3] for box in bounding_boxes])"
   ]
  },
  {
   "cell_type": "markdown",
   "metadata": {},
   "source": [
    "Wyodrębnijmy teraz każdą cyfrę z obrazu, zapiszmy ją do słownika pod odpowiednim kluczem, a także zmieńmy rozmiar wszystkich wyciętych cyfr do takiego samego wymiaru."
   ]
  },
  {
   "cell_type": "code",
   "execution_count": null,
   "metadata": {},
   "outputs": [],
   "source": [
    "digits = {}\n",
    "\n",
    "for (index, box) in enumerate(bounding_boxes):\n",
    "    (x, y, w, h) = box\n",
    "    roi = binary_font_image[y:y + h, x:x + w]\n",
    "    roi = cv2.resize(roi, (max_width, max_height))\n",
    "\n",
    "    digits[index] = roi\n",
    "\n",
    "print(len(digits))"
   ]
  },
  {
   "cell_type": "code",
   "execution_count": null,
   "metadata": {},
   "outputs": [],
   "source": [
    "fig = plt.figure()\n",
    "\n",
    "for i in range(1, 11):\n",
    "    plt.subplot(1, 10, i)\n",
    "    plt.xticks([]), plt.yticks([])\n",
    "    plt.imshow(digits[i - 1], cmap='gray')\n",
    "\n",
    "plt.show()\n"
   ]
  },
  {
   "cell_type": "markdown",
   "metadata": {},
   "source": [
    "# 2. Przetwarzanie zdjęcia karty\n",
    "Będziemy skalować obrazy do szerokości 300px"
   ]
  },
  {
   "cell_type": "code",
   "execution_count": null,
   "metadata": {},
   "outputs": [],
   "source": [
    "card_image_path = 'images/credit_card_01.png'\n",
    "card_image = cv2.imread(card_image_path)\n",
    "card_image = cv2.cvtColor(card_image, cv2.COLOR_BGR2RGB)\n",
    "card_image = cv2.resize(card_image, (300, int(height * (300 / width))), interpolation = cv2.INTER_AREA)\n",
    "\n",
    "gray_card_image = cv2.cvtColor(card_image, cv2.COLOR_BGR2GRAY)\n",
    "\n",
    "height, width = gray_card_image.shape\n",
    "plt.imshow(gray_card_image, cmap='gray')"
   ]
  },
  {
   "cell_type": "markdown",
   "metadata": {},
   "source": [
    "Stosujemy transformację morfologiczną Otwartą filtrem prostokątnym w celu wyróżnienia cyfr oraz usunięcia drobnych szumów. Następnie wykonujemy różnicę pomiędzy szarym obrazem oryginalnym a wynikem transformacji morfologicznej."
   ]
  },
  {
   "cell_type": "code",
   "execution_count": null,
   "metadata": {},
   "outputs": [],
   "source": [
    "rectangle_kernel = cv2.getStructuringElement(cv2.MORPH_RECT, (9, 3))\n",
    "open_morphology = cv2.morphologyEx(gray_card_image, cv2.MORPH_OPEN, rectangle_kernel)\n",
    "plt.imshow(open_morphology, cmap='gray')"
   ]
  },
  {
   "cell_type": "code",
   "execution_count": null,
   "metadata": {},
   "outputs": [],
   "source": [
    "result = gray_card_image - open_morphology\n",
    "plt.imshow(result, cmap='gray')"
   ]
  },
  {
   "cell_type": "markdown",
   "metadata": {},
   "source": [
    "Wyznaczamy następnie krawędzie na obrazie wykorzystując operator Sobela. Po uzyskaniu wyniku musimy przeskalować uzyskany obraz do wartości pikseli z zakresu [0, 255]"
   ]
  },
  {
   "cell_type": "code",
   "execution_count": null,
   "metadata": {},
   "outputs": [],
   "source": [
    "grad_x = cv2.Sobel(result, ddepth=cv2.CV_32F, dx=1, dy=0, ksize=-1)\n",
    "grad_x = np.absolute(grad_x)\n",
    "plt.imshow(grad_x, cmap='gray')\n",
    "(min_val, max_val) = (np.min(grad_x), np.max(grad_x))\n",
    "grad_x = (255 * ((grad_x - min_val) / (max_val - min_val)))\n",
    "grad_x = grad_x.astype(\"uint8\")\n",
    "plt.imshow(grad_x, cmap='gray')\n"
   ]
  },
  {
   "cell_type": "markdown",
   "metadata": {},
   "source": [
    "Zastosujmy teraz transformację morfologiczną zamknięcia w celu wypełnienia luk pomiędzy cyframi karty kredytowej, a następnie metodę progowania w celu binaryzacji obrazu."
   ]
  },
  {
   "cell_type": "code",
   "execution_count": null,
   "metadata": {},
   "outputs": [],
   "source": [
    "closed_grad_x = cv2.morphologyEx(grad_x, cv2.MORPH_CLOSE, rectangle_kernel)\n",
    "plt.imshow(closed_grad_x, cmap='gray')"
   ]
  },
  {
   "cell_type": "code",
   "execution_count": null,
   "metadata": {},
   "outputs": [],
   "source": [
    "# card_threshold = cv2.adaptiveThreshold(closed_grad_x, 255, cv2.ADAPTIVE_THRESH_GAUSSIAN_C, cv2.THRESH_BINARY, 21, 9)\n",
    "ret, card_threshold = cv2.threshold(closed_grad_x, 60, 255, cv2.THRESH_BINARY)\n",
    "plt.imshow(card_threshold, cmap='gray')"
   ]
  },
  {
   "cell_type": "markdown",
   "metadata": {},
   "source": [
    "Ponownie zastosujmy operację transformacji morfologicznej zamknięcia w celu zamknięcia luk między cyframi. tym razem filtrem kwadratowym."
   ]
  },
  {
   "cell_type": "code",
   "execution_count": null,
   "metadata": {},
   "outputs": [],
   "source": [
    "square_filter = cv2.getStructuringElement(cv2.MORPH_RECT, (5, 5))\n",
    "closed_threshold = cv2.morphologyEx(card_threshold, cv2.MORPH_CLOSE, square_filter)\n",
    "plt.imshow(closed_threshold, cmap='gray')"
   ]
  },
  {
   "cell_type": "code",
   "execution_count": null,
   "metadata": {},
   "outputs": [],
   "source": []
  },
  {
   "cell_type": "code",
   "execution_count": null,
   "metadata": {},
   "outputs": [],
   "source": []
  },
  {
   "cell_type": "markdown",
   "metadata": {},
   "source": [
    "Ponownie wykorzystajmy funkcję do znajdowania konturów"
   ]
  },
  {
   "cell_type": "code",
   "execution_count": null,
   "metadata": {},
   "outputs": [],
   "source": [
    "contours = cv2.findContours(closed_threshold, cv2.RETR_EXTERNAL, cv2.CHAIN_APPROX_SIMPLE)\n",
    "\n",
    "if len(contours) == 2:\n",
    "    contours = contours[0]\n",
    "elif len(contours) == 3:\n",
    "    contours = contours[1]"
   ]
  },
  {
   "cell_type": "markdown",
   "metadata": {},
   "source": [
    "Ze znalezionych konturów musimy ponownie utworzyć bounding boxy. A następnie obliczymy dla każdego z nich aspect ratio czyli podzielimy jego szerokość przez długość.\n",
    "\n",
    "Ponieważ karty kredytowe używają czcionek o stałym rozmiarze z 4 grupami 4 cyfr, możemy przyciąć potencjalne kontury w oparciu o współczynnik kształtu obrazu."
   ]
  },
  {
   "cell_type": "code",
   "execution_count": null,
   "metadata": {},
   "outputs": [],
   "source": [
    "good_boxes = []\n",
    "for (index, contour) in enumerate(contours):\n",
    "    (x, y, w, h) = cv2.boundingRect(contour)\n",
    "    aspect_ratio = w / float(h)    \n",
    "\n",
    "    if aspect_ratio > 2.5 and aspect_ratio < 4.0:\n",
    "\n",
    "        if (w > 40 and w < 55) and (h > 10 and h < 20):\n",
    "            good_boxes.append((x, y, w, h))\n",
    "print(len(good_boxes))"
   ]
  },
  {
   "cell_type": "markdown",
   "metadata": {},
   "source": [
    "Posortujmy ramki od lewej do prawej. Następnie wybieramy z oryginalnego obrazu kolejne bloki czterech cyfr i je przetwarzamy i dzielimy grupy na cyfry ponownie wykorzystując funkcję __findContours__."
   ]
  },
  {
   "cell_type": "code",
   "execution_count": null,
   "metadata": {},
   "outputs": [],
   "source": [
    "good_boxes = sorted(good_boxes, key=lambda box: box[0])"
   ]
  },
  {
   "cell_type": "code",
   "execution_count": null,
   "metadata": {},
   "outputs": [],
   "source": []
  },
  {
   "cell_type": "code",
   "execution_count": null,
   "metadata": {},
   "outputs": [],
   "source": [
    "card_number = []\n",
    "# Dla każdej znalezionej grupy cyfr\n",
    "for (i, (gX, gY, gW, gH)) in enumerate(good_boxes):\n",
    "    group_result = []\n",
    "    \n",
    "    \n",
    "    # Wybierz grupę z szarego obrazu z paddingiem 5px z każdej strony i wykonaj binarny thresholding\n",
    "    group = gray_card_image[gY - 5:gY + gH + 5, gX - 5:gX + gW + 5]\n",
    "    ret, group_threshold = cv2.threshold(group, 127, 255, cv2.THRESH_BINARY)\n",
    "    \n",
    "    # Znajdź kontury cyfr\n",
    "    digit_contours = cv2.findContours(group_threshold, cv2.RETR_EXTERNAL, cv2.CHAIN_APPROX_SIMPLE)\n",
    "    \n",
    "    if len(digit_contours) == 2:\n",
    "        digit_contours = digit_contours[0]\n",
    "    elif len(digit_contours) == 3:\n",
    "        digit_contours = digit_contours[1]\n",
    "    \n",
    "    # Utwórz boxy z konturów i posortuj je\n",
    "    digit_boxes = [cv2.boundingRect(contour) for contour in digit_contours]\n",
    "    digit_boxes = sorted(digit_boxes, key=lambda box: box[0])\n",
    "    \n",
    "    # Dla każdego boxa cyfry wyciągnij cyfrę jako region of interest i zrób resize do (57, 88)\n",
    "    for box in digit_boxes:\n",
    "        (x, y, w, h) = box\n",
    "        roi = group_threshold[y:y + h, x:x + w]\n",
    "        roi = cv2.resize(roi, (57, 88))\n",
    "\n",
    "        # initialize a list of template matching scores\n",
    "        scores = []\n",
    "\n",
    "        for (digit, digitROI) in digits.items():\n",
    "            # apply correlation-based template matching, take the\n",
    "            # score, and update the scores list\n",
    "            result = cv2.matchTemplate(roi, digitROI, cv2.TM_CCOEFF)\n",
    "            (_, score, _, _) = cv2.minMaxLoc(result)\n",
    "            scores.append(score)\n",
    "\n",
    "        # the classification for the digit ROI will be the reference\n",
    "        # digit name with the *largest* template matching score\n",
    "        group_result.append(str(np.argmax(scores)))\n",
    "\n",
    "    # draw the digit classifications around the group\n",
    "    cv2.rectangle(card_image, (gX - 5, gY - 5), (gX + gW + 5, gY + gH + 5), (255, 0, 0), 2)\n",
    "    cv2.putText(card_image, \"\".join(group_result), (gX, gY - 15), cv2.FONT_HERSHEY_SIMPLEX, 0.65, (255, 0, 0), 2)\n",
    "\n",
    "    card_number.extend(group_result)\n",
    "    \n",
    "plt.imshow(card_image)\n",
    "print(\"Credit Card #: {}\".format(\"\".join(card_number)))"
   ]
  },
  {
   "cell_type": "code",
   "execution_count": null,
   "metadata": {},
   "outputs": [],
   "source": []
  },
  {
   "cell_type": "markdown",
   "metadata": {},
   "source": [
    "## Zadanie\n",
    "Przeanalizuj kod ponownie a następnie zdefiniuj funkcję, która przyjmie ścieżkę do pliku a wynik jej działania jest taki sam jak całego powyższego kodu: Wydrukowanie typu karty, jej numeru oraz obrazu z naniesionymi ramkami i numerem karty. Możesz definiować funkcje pomocnicze do kolejnych kroków i uporządkować kod.\n",
    "\n",
    "Dostarczyliśmy inne zdjęcia kart o takich ścieżkach do przetestowania\n",
    "- 'images/credit_card_01.png'\n",
    "- 'images/credit_card_02.png'\n",
    "- 'images/credit_card_03.png'\n",
    "- 'images/credit_card_04.png'\n",
    "- 'images/credit_card_05.png'\n",
    "\n"
   ]
  },
  {
   "cell_type": "code",
   "execution_count": null,
   "metadata": {},
   "outputs": [],
   "source": []
  },
  {
   "cell_type": "code",
   "execution_count": null,
   "metadata": {},
   "outputs": [],
   "source": []
  },
  {
   "cell_type": "code",
   "execution_count": null,
   "metadata": {},
   "outputs": [],
   "source": []
  },
  {
   "cell_type": "code",
   "execution_count": null,
   "metadata": {},
   "outputs": [],
   "source": []
  }
 ],
 "metadata": {
  "kernelspec": {
   "display_name": "gpu",
   "language": "python",
   "name": "gpu"
  },
  "language_info": {
   "codemirror_mode": {
    "name": "ipython",
    "version": 3
   },
   "file_extension": ".py",
   "mimetype": "text/x-python",
   "name": "python",
   "nbconvert_exporter": "python",
   "pygments_lexer": "ipython3",
   "version": "3.7.2"
  }
 },
 "nbformat": 4,
 "nbformat_minor": 2
}
