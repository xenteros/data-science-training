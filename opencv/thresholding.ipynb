{
 "cells": [
  {
   "cell_type": "code",
   "execution_count": 11,
   "metadata": {},
   "outputs": [],
   "source": [
    "import cv2\n",
    "import numpy as np\n",
    "import matplotlib.pyplot as plt\n",
    "%matplotlib inline\n",
    "plt.rcParams['figure.figsize'] = [10, 5]"
   ]
  },
  {
   "cell_type": "markdown",
   "metadata": {},
   "source": [
    "### Proste progowanie\n",
    "\n",
    "Sprawa jest prosta. Jeśli wartość piksela jest większa niż wartość progowa, to przypisywana jest jedna wartość (może być biała), w przeciwnym razie przypisywana jest inna wartość (może być czarna). \n",
    "\n",
    "W tym celu używa się funkcji __cv2.threshold__. \n",
    "- Pierwszym argumentem jest obraz źródłowy, który powinien być obrazem w __skali szarości__. \n",
    "- Drugim argumentem jest wartość progowa, która służy do klasyfikacji wartości pikseli. \n",
    "- Trzeci argument to maxVal, który reprezentuje wartość, która ma być podana, jeśli wartość piksela jest większa (czasami mniejsza) od wartości progowej. \n",
    "\n",
    "OpenCV dostarcza różnych stylów progowania i decyduje o tym czwarty parametr funkcji. Różne typy są:\n",
    "- cv2.THRESH_BINARY:   $dst(x,y) = \\texttt{maxval} ~~~ if ~~\\texttt{src}(x,y) ~~> \\texttt{thresh} else ~~{0}$\n",
    "- cv2.THRESH_BINARY_INV: Odwrotność binarnej\n",
    "- cv2.THRESH_TRUNC: $dst(x,y) = \\texttt{thresh} ~~~ if ~~\\texttt{src}(x,y) ~~> \\texttt{thresh} else  ~~\\texttt{src}(x,y)$\n",
    "- cv2.THRESH_TOZERO: $dst(x,y) = \\texttt{src}(x,y) ~~~ if ~~\\texttt{src}(x,y) ~~> \\texttt{thresh} else  ~~0$\n",
    "- cv2.THRESH_TOZERO_INV: Odwrotność TOZERO\n",
    "\n"
   ]
  },
  {
   "cell_type": "code",
   "execution_count": 13,
   "metadata": {},
   "outputs": [
    {
     "data": {
      "image/png": "[encoded data removed]",
      "text/plain": [
       "<Figure size 720x360 with 6 Axes>"
      ]
     },
     "metadata": {},
     "output_type": "display_data"
    }
   ],
   "source": [
    "image = cv2.imread('images/gradient.png')\n",
    "\n",
    "ret, thresh1 = cv2.threshold(image, 127, 255, cv2.THRESH_BINARY)\n",
    "ret, thresh2 = cv2.threshold(image, 127, 255, cv2.THRESH_BINARY_INV)\n",
    "ret, thresh3 = cv2.threshold(image, 127, 255, cv2.THRESH_TRUNC)\n",
    "ret, thresh4 = cv2.threshold(image, 127, 255, cv2.THRESH_TOZERO)\n",
    "ret, thresh5 = cv2.threshold(image, 127, 255, cv2.THRESH_TOZERO_INV)\n",
    "\n",
    "titles = ['Original Image','BINARY','BINARY_INV','TRUNC','TOZERO','TOZERO_INV']\n",
    "images = [image, thresh1, thresh2, thresh3, thresh4, thresh5]\n",
    "\n",
    "for i in range(6):\n",
    "    plt.subplot(2,3,i+1), plt.imshow(images[i],'gray')\n",
    "    plt.title(titles[i])\n",
    "    plt.xticks([]),plt.yticks([])\n",
    "plt.show()"
   ]
  },
  {
   "cell_type": "code",
   "execution_count": null,
   "metadata": {},
   "outputs": [],
   "source": []
  }
 ],
 "metadata": {
  "kernelspec": {
   "display_name": "gpu",
   "language": "python",
   "name": "gpu"
  },
  "language_info": {
   "codemirror_mode": {
    "name": "ipython",
    "version": 3
   },
   "file_extension": ".py",
   "mimetype": "text/x-python",
   "name": "python",
   "nbconvert_exporter": "python",
   "pygments_lexer": "ipython3",
   "version": "3.7.2"
  }
 },
 "nbformat": 4,
 "nbformat_minor": 2
}
