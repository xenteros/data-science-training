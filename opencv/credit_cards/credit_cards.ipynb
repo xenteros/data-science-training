{
 "cells": [
  {
   "cell_type": "code",
   "execution_count": 1,
   "metadata": {},
   "outputs": [],
   "source": [
    "import cv2\n",
    "import matplotlib.pyplot as plt\n",
    "%matplotlib inline\n",
    "import numpy as np\n",
    "import imutils\n",
    "from imutils import contours"
   ]
  },
  {
   "cell_type": "code",
   "execution_count": null,
   "metadata": {},
   "outputs": [],
   "source": [
    "from imutils import contours\n",
    "import numpy as np\n",
    "import argparse\n",
    "import imutils\n",
    "import cv2\n",
    "\n",
    "font_path = 'images/ocr_a.png'\n",
    "image_path = 'images/master1.png'"
   ]
  },
  {
   "cell_type": "markdown",
   "metadata": {},
   "source": [
    "Definiowanie słownika, który mapuje pierwszą cyfrę numeru karty kredytowej do typu karty kredytowej"
   ]
  },
  {
   "cell_type": "code",
   "execution_count": null,
   "metadata": {},
   "outputs": [],
   "source": [
    "FIRST_NUMBER = {\n",
    "    \"3\": \"American Express\",\n",
    "    \"4\": \"Visa\",\n",
    "    \"5\": \"MasterCard\",\n",
    "    \"6\": \"Discover Card\"\n",
    "}"
   ]
  },
  {
   "cell_type": "markdown",
   "metadata": {},
   "source": [
    "Załadować obraz referencyjny OCR-A z dysku, przekonwertować go do skali szarości i ustawić próg, tak aby cyfry pojawiały się jako *białe* na tle *czarnym* i odwrócić je tak, aby cyfry pojawiały się jako *białe* na tle *czarnym*."
   ]
  },
  {
   "cell_type": "code",
   "execution_count": 4,
   "metadata": {},
   "outputs": [
    {
     "data": {
      "text/plain": [
       "<matplotlib.image.AxesImage at 0x12206dfd0>"
      ]
     },
     "execution_count": 4,
     "metadata": {},
     "output_type": "execute_result"
    },
    {
     "data": {
      "image/png": "[encoded data removed]",
      "text/plain": [
       "<Figure size 432x288 with 1 Axes>"
      ]
     },
     "metadata": {},
     "output_type": "display_data"
    }
   ],
   "source": [
    "ref = cv2.imread(font_path)\n",
    "ref = cv2.cvtColor(ref, cv2.COLOR_BGR2GRAY)\n",
    "ref = cv2.threshold(ref, 10, 255, cv2.THRESH_BINARY_INV)[1]\n",
    "plt.imshow(ref, cmap='gray')"
   ]
  },
  {
   "cell_type": "markdown",
   "metadata": {},
   "source": [
    "Wyszukiwanie konturów w obrazie OCR-A (tj. konturów cyfr) sortowanie ich od lewej do prawej i inicjalizacja słownika do mapowania nazwy cyfry do ROI"
   ]
  },
  {
   "cell_type": "code",
   "execution_count": 1,
   "metadata": {},
   "outputs": [
    {
     "ename": "NameError",
     "evalue": "name 'cv2' is not defined",
     "traceback": [
      "\u001b[0;31m---------------------------------------------------------------------------\u001b[0m",
      "\u001b[0;31mNameError\u001b[0m                                 Traceback (most recent call last)",
      "\u001b[0;32m<ipython-input-1-272cc1109293>\u001b[0m in \u001b[0;36m<module>\u001b[0;34m\u001b[0m\n\u001b[0;32m----> 1\u001b[0;31m \u001b[0mrefCnts\u001b[0m \u001b[0;34m=\u001b[0m \u001b[0mcv2\u001b[0m\u001b[0;34m.\u001b[0m\u001b[0mfindContours\u001b[0m\u001b[0;34m(\u001b[0m\u001b[0mref\u001b[0m\u001b[0;34m.\u001b[0m\u001b[0mcopy\u001b[0m\u001b[0;34m(\u001b[0m\u001b[0;34m)\u001b[0m\u001b[0;34m,\u001b[0m \u001b[0mcv2\u001b[0m\u001b[0;34m.\u001b[0m\u001b[0mRETR_EXTERNAL\u001b[0m\u001b[0;34m,\u001b[0m \u001b[0mcv2\u001b[0m\u001b[0;34m.\u001b[0m\u001b[0mCHAIN_APPROX_SIMPLE\u001b[0m\u001b[0;34m)\u001b[0m\u001b[0;34m\u001b[0m\u001b[0;34m\u001b[0m\u001b[0m\n\u001b[0m\u001b[1;32m      2\u001b[0m \u001b[0mrefCnts\u001b[0m \u001b[0;34m=\u001b[0m \u001b[0mimutils\u001b[0m\u001b[0;34m.\u001b[0m\u001b[0mgrab_contours\u001b[0m\u001b[0;34m(\u001b[0m\u001b[0mrefCnts\u001b[0m\u001b[0;34m)\u001b[0m\u001b[0;34m\u001b[0m\u001b[0;34m\u001b[0m\u001b[0m\n\u001b[1;32m      3\u001b[0m \u001b[0mrefCnts\u001b[0m \u001b[0;34m=\u001b[0m \u001b[0mcontours\u001b[0m\u001b[0;34m.\u001b[0m\u001b[0msort_contours\u001b[0m\u001b[0;34m(\u001b[0m\u001b[0mrefCnts\u001b[0m\u001b[0;34m,\u001b[0m \u001b[0mmethod\u001b[0m\u001b[0;34m=\u001b[0m\u001b[0;34m\"left-to-right\"\u001b[0m\u001b[0;34m)\u001b[0m\u001b[0;34m[\u001b[0m\u001b[0;36m0\u001b[0m\u001b[0;34m]\u001b[0m\u001b[0;34m\u001b[0m\u001b[0;34m\u001b[0m\u001b[0m\n\u001b[1;32m      4\u001b[0m \u001b[0mdigits\u001b[0m \u001b[0;34m=\u001b[0m \u001b[0;34m{\u001b[0m\u001b[0;34m}\u001b[0m\u001b[0;34m\u001b[0m\u001b[0;34m\u001b[0m\u001b[0m\n\u001b[1;32m      5\u001b[0m \u001b[0;34m\u001b[0m\u001b[0m\n",
      "\u001b[0;31mNameError\u001b[0m: name 'cv2' is not defined"
     ],
     "output_type": "error"
    }
   ],
   "source": [
    "refCnts = cv2.findContours(ref.copy(), cv2.RETR_EXTERNAL, cv2.CHAIN_APPROX_SIMPLE)\n",
    "refCnts = imutils.grab_contours(refCnts)\n",
    "refCnts = contours.sort_contours(refCnts, method=\"left-to-right\")[0]\n",
    "digits = {}\n",
    "\n",
    "'obliczyć pole ograniczające dla cyfry, wyodrębnić ją i zmienić jej rozmiar do ustalonego rozmiaru. roi = Region Of Interests'\n",
    "for (i, c) in enumerate(refCnts):\n",
    "    (x, y, w, h) = cv2.boundingRect(c)\n",
    "    roi = ref[y:y + h, x:x + w]\n",
    "    roi = cv2.resize(roi, (57, 88))\n",
    "\n",
    "    digits[i] = roi\n",
    "\n",
    "print(len(digits))\n",
    "\n",
    "# initialize a rectangular (wider than it is tall) and square\n",
    "# structuring kernel\n",
    "rectKernel = cv2.getStructuringElement(cv2.MORPH_RECT, (9, 3))\n",
    "sqKernel = cv2.getStructuringElement(cv2.MORPH_RECT, (5, 5))\n",
    "\n",
    "# load the input image, resize it, and convert it to grayscale\n",
    "image = cv2.imread(image_path)\n",
    "image = imutils.resize(image, width=300)\n",
    "gray = cv2.cvtColor(image, cv2.COLOR_BGR2GRAY)\n",
    "\n",
    "# apply a tophat (whitehat) morphological operator to find light\n",
    "# regions against a dark background (i.e., the credit card numbers)\n",
    "tophat = cv2.morphologyEx(gray, cv2.MORPH_TOPHAT, rectKernel)\n",
    "\n",
    "# compute the Scharr gradient of the tophat image, then scale\n",
    "# the rest back into the range [0, 255]\n",
    "gradX = cv2.Sobel(tophat, ddepth=cv2.CV_32F, dx=1, dy=0, ksize=-1)\n",
    "gradX = np.absolute(gradX)\n",
    "(minVal, maxVal) = (np.min(gradX), np.max(gradX))\n",
    "gradX = (255 * ((gradX - minVal) / (maxVal - minVal)))\n",
    "gradX = gradX.astype(\"uint8\")\n",
    "\n",
    "# apply a closing operation using the rectangular kernel to help\n",
    "# cloes gaps in between credit card number digits, then apply\n",
    "# Otsu's thresholding method to binarize the image\n",
    "gradX = cv2.morphologyEx(gradX, cv2.MORPH_CLOSE, rectKernel)\n",
    "thresh = cv2.threshold(gradX, 0, 255, cv2.THRESH_BINARY | cv2.THRESH_OTSU)[1]\n",
    "\n",
    "# apply a second closing operation to the binary image, again\n",
    "# to help close gaps between credit card number regions\n",
    "thresh = cv2.morphologyEx(thresh, cv2.MORPH_CLOSE, sqKernel)\n",
    "\n",
    "# find contours in the thresholded image, then initialize the\n",
    "# list of digit locations\n",
    "cnts = cv2.findContours(thresh.copy(), cv2.RETR_EXTERNAL,\n",
    "                        cv2.CHAIN_APPROX_SIMPLE)\n",
    "cnts = imutils.grab_contours(cnts)\n",
    "locs = []\n",
    "\n",
    "# loop over the contours\n",
    "for (i, c) in enumerate(cnts):\n",
    "    # compute the bounding box of the contour, then use the\n",
    "    # bounding box coordinates to derive the aspect ratio\n",
    "    (x, y, w, h) = cv2.boundingRect(c)\n",
    "    ar = w / float(h)\n",
    "\n",
    "    # since credit cards used a fixed size fonts with 4 groups\n",
    "    # of 4 digits, we can prune potential contours based on the\n",
    "    # aspect ratio\n",
    "    if ar > 2.5 and ar < 4.0:\n",
    "        # contours can further be pruned on minimum/maximum width\n",
    "        # and height\n",
    "        if (w > 40 and w < 55) and (h > 10 and h < 20):\n",
    "            # append the bounding box region of the digits group\n",
    "            # to our locations list\n",
    "            locs.append((x, y, w, h))\n",
    "\n",
    "# sort the digit locations from left-to-right, then initialize the\n",
    "# list of classified digits\n",
    "locs = sorted(locs, key=lambda x: x[0])\n",
    "output = []\n",
    "\n",
    "# loop over the 4 groupings of 4 digits\n",
    "for (i, (gX, gY, gW, gH)) in enumerate(locs):\n",
    "    # initialize the list of group digits\n",
    "    groupOutput = []\n",
    "\n",
    "    # extract the group ROI of 4 digits from the grayscale image,\n",
    "    # then apply thresholding to segment the digits from the\n",
    "    # background of the credit card\n",
    "    group = gray[gY - 5:gY + gH + 5, gX - 5:gX + gW + 5]\n",
    "    group = cv2.threshold(group, 0, 255,\n",
    "                          cv2.THRESH_BINARY | cv2.THRESH_OTSU)[1]\n",
    "\n",
    "    # detect the contours of each individual digit in the group,\n",
    "    # then sort the digit contours from left to right\n",
    "    digitCnts = cv2.findContours(group.copy(), cv2.RETR_EXTERNAL,\n",
    "                                 cv2.CHAIN_APPROX_SIMPLE)\n",
    "    digitCnts = imutils.grab_contours(digitCnts)\n",
    "    digitCnts = contours.sort_contours(digitCnts,\n",
    "                                       method=\"left-to-right\")[0]\n",
    "\n",
    "    # loop over the digit contours\n",
    "    for c in digitCnts:\n",
    "        # compute the bounding box of the individual digit, extract\n",
    "        # the digit, and resize it to have the same fixed size as\n",
    "        # the reference OCR-A images\n",
    "        (x, y, w, h) = cv2.boundingRect(c)\n",
    "        roi = group[y:y + h, x:x + w]\n",
    "        roi = cv2.resize(roi, (57, 88))\n",
    "\n",
    "        # initialize a list of template matching scores\n",
    "        scores = []\n",
    "\n",
    "        # loop over the reference digit name and digit ROI\n",
    "        for (digit, digitROI) in digits.items():\n",
    "            # apply correlation-based template matching, take the\n",
    "            # score, and update the scores list\n",
    "            result = cv2.matchTemplate(roi, digitROI,\n",
    "                                       cv2.TM_CCOEFF)\n",
    "            (_, score, _, _) = cv2.minMaxLoc(result)\n",
    "            scores.append(score)\n",
    "\n",
    "        # the classification for the digit ROI will be the reference\n",
    "        # digit name with the *largest* template matching score\n",
    "        groupOutput.append(str(np.argmax(scores)))\n",
    "\n",
    "    # draw the digit classifications around the group\n",
    "    cv2.rectangle(image, (gX - 5, gY - 5),\n",
    "                  (gX + gW + 5, gY + gH + 5), (0, 0, 255), 2)\n",
    "    cv2.putText(image, \"\".join(groupOutput), (gX, gY - 15),\n",
    "                cv2.FONT_HERSHEY_SIMPLEX, 0.65, (0, 0, 255), 2)\n",
    "\n",
    "    # update the output digits list\n",
    "    output.extend(groupOutput)\n",
    "\n",
    "# display the output credit card information to the screen\n",
    "print(\"Credit Card Type: {}\".format(FIRST_NUMBER[output[0]]))\n",
    "print(\"Credit Card #: {}\".format(\"\".join(output)))\n",
    "\n",
    "image = cv2.cvtColor(image, cv2.COLOR_BGR2RGB)\n",
    "plt.imshow(image)"
   ]
  },
  {
   "cell_type": "code",
   "execution_count": null,
   "metadata": {},
   "outputs": [],
   "source": []
  }
 ],
 "metadata": {
  "kernelspec": {
   "display_name": "gpu",
   "language": "python",
   "name": "gpu"
  },
  "language_info": {
   "codemirror_mode": {
    "name": "ipython",
    "version": 3
   },
   "file_extension": ".py",
   "mimetype": "text/x-python",
   "name": "python",
   "nbconvert_exporter": "python",
   "pygments_lexer": "ipython3",
   "version": "3.7.2"
  }
 },
 "nbformat": 4,
 "nbformat_minor": 2
}
